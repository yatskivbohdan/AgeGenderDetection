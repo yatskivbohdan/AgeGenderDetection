{
 "cells": [
  {
   "cell_type": "markdown",
   "metadata": {},
   "source": [
    "# Age and gender recognition"
   ]
  },
  {
   "cell_type": "markdown",
   "metadata": {},
   "source": [
    "## Part 1. Data preparation\n"
   ]
  },
  {
   "cell_type": "markdown",
   "metadata": {},
   "source": [
    "### 1.1. Data loading and preprocessing "
   ]
  },
  {
   "cell_type": "code",
   "execution_count": 1,
   "metadata": {},
   "outputs": [],
   "source": [
    "import numpy as np\n",
    "from scipy.io import loadmat\n",
    "import pandas as pd\n",
    "import datetime as date\n",
    "from matplotlib import pyplot as plt\n",
    "from dateutil.relativedelta import relativedelta"
   ]
  },
  {
   "cell_type": "code",
   "execution_count": 2,
   "metadata": {},
   "outputs": [],
   "source": [
    "wiki_data = loadmat('data/wiki/wiki.mat')"
   ]
  },
  {
   "cell_type": "code",
   "execution_count": 3,
   "metadata": {},
   "outputs": [],
   "source": [
    "wiki = wiki_data['wiki']"
   ]
  },
  {
   "cell_type": "code",
   "execution_count": 4,
   "metadata": {},
   "outputs": [
    {
     "data": {
      "text/plain": [
       "array([[(array([[723671, 703186, 711677, ..., 720620, 723893, 713846]]), array([[2009, 1964, 2008, ..., 2013, 2011, 2008]], dtype=uint16), array([[array(['17/10000217_1981-05-05_2009.jpg'], dtype='<U31'),\n",
       "        array(['48/10000548_1925-04-04_1964.jpg'], dtype='<U31'),\n",
       "        array(['12/100012_1948-07-03_2008.jpg'], dtype='<U29'), ...,\n",
       "        array(['09/9998109_1972-12-27_2013.jpg'], dtype='<U30'),\n",
       "        array(['00/9999400_1981-12-13_2011.jpg'], dtype='<U30'),\n",
       "        array(['80/999980_1954-06-11_2008.jpg'], dtype='<U29')]],\n",
       "      dtype=object), array([[1., 1., 1., ..., 1., 1., 0.]]), array([[array(['Sami Jauhojärvi'], dtype='<U15'),\n",
       "        array(['Dettmar Cramer'], dtype='<U14'),\n",
       "        array(['Marc Okrand'], dtype='<U11'), ...,\n",
       "        array(['Michael Wiesinger'], dtype='<U17'),\n",
       "        array(['Johann Grugger'], dtype='<U14'),\n",
       "        array(['Greta Van Susteren'], dtype='<U18')]], dtype=object), array([[array([[111.29109473, 111.29109473, 252.66993082, 252.66993082]]),\n",
       "        array([[252.4833023 , 126.68165115, 354.53192596, 228.73027481]]),\n",
       "        array([[113.52, 169.84, 366.08, 422.4 ]]), ...,\n",
       "        array([[169.88839786,  74.31669472, 235.2534231 , 139.68171997]]),\n",
       "        array([[1, 1, 1, 1]], dtype=uint8),\n",
       "        array([[ 92.72633235,  62.0435549 , 230.12083087, 199.43805342]])]],\n",
       "      dtype=object), array([[4.30096239, 2.6456395 , 4.32932883, ..., 3.49430317,       -inf,\n",
       "        5.48691655]]), array([[       nan, 1.94924791,        nan, ...,        nan,        nan,\n",
       "               nan]]))]],\n",
       "      dtype=[('dob', 'O'), ('photo_taken', 'O'), ('full_path', 'O'), ('gender', 'O'), ('name', 'O'), ('face_location', 'O'), ('face_score', 'O'), ('second_face_score', 'O')])"
      ]
     },
     "execution_count": 4,
     "metadata": {},
     "output_type": "execute_result"
    }
   ],
   "source": [
    "wiki"
   ]
  },
  {
   "cell_type": "code",
   "execution_count": 5,
   "metadata": {},
   "outputs": [],
   "source": [
    "wiki_photo_taken = wiki[0][0][1][0]\n",
    "wiki_path = wiki[0][0][2][0]\n",
    "wiki_gender = wiki[0][0][3][0]\n",
    "wiki_face_score1 = wiki[0][0][6][0]\n",
    "wiki_face_score2 = wiki[0][0][7][0]"
   ]
  },
  {
   "cell_type": "code",
   "execution_count": 6,
   "metadata": {},
   "outputs": [],
   "source": [
    "for i in range(len(wiki_path)):\n",
    "    wiki_path[i] = 'data/wiki/' + wiki_path[i][0]"
   ]
  },
  {
   "cell_type": "code",
   "execution_count": 7,
   "metadata": {},
   "outputs": [],
   "source": [
    "wiki_dob = []"
   ]
  },
  {
   "cell_type": "code",
   "execution_count": 8,
   "metadata": {},
   "outputs": [],
   "source": [
    "for file in wiki_path:\n",
    "    wiki_dob.append(file.split('_')[1])"
   ]
  },
  {
   "cell_type": "code",
   "execution_count": 9,
   "metadata": {},
   "outputs": [],
   "source": [
    "wiki_age = []"
   ]
  },
  {
   "cell_type": "code",
   "execution_count": 10,
   "metadata": {},
   "outputs": [],
   "source": [
    "for i in range(len(wiki_dob)):\n",
    "    try:\n",
    "        d1 = date.datetime.strptime(wiki_dob[i][0:10], '%Y-%m-%d')\n",
    "        d2 = date.datetime.strptime(str(wiki_photo_taken[i]), '%Y')\n",
    "        rdelta = relativedelta(d2, d1)\n",
    "        diff = rdelta.years\n",
    "    except:\n",
    "        diff = None\n",
    "    wiki_age.append(diff)"
   ]
  },
  {
   "cell_type": "code",
   "execution_count": 11,
   "metadata": {},
   "outputs": [],
   "source": [
    "final_wiki = np.vstack((wiki_age, wiki_gender, wiki_path, wiki_face_score1, wiki_face_score2)).T\n",
    "\n",
    "wiki_df = pd.DataFrame(final_wiki)"
   ]
  },
  {
   "cell_type": "code",
   "execution_count": 12,
   "metadata": {},
   "outputs": [],
   "source": [
    "wiki_df.columns = ['age', 'gender', 'path', 'face_score1', 'face_score2']"
   ]
  },
  {
   "cell_type": "code",
   "execution_count": 13,
   "metadata": {},
   "outputs": [
    {
     "data": {
      "text/html": [
       "<div>\n",
       "<style scoped>\n",
       "    .dataframe tbody tr th:only-of-type {\n",
       "        vertical-align: middle;\n",
       "    }\n",
       "\n",
       "    .dataframe tbody tr th {\n",
       "        vertical-align: top;\n",
       "    }\n",
       "\n",
       "    .dataframe thead th {\n",
       "        text-align: right;\n",
       "    }\n",
       "</style>\n",
       "<table border=\"1\" class=\"dataframe\">\n",
       "  <thead>\n",
       "    <tr style=\"text-align: right;\">\n",
       "      <th></th>\n",
       "      <th>age</th>\n",
       "      <th>gender</th>\n",
       "      <th>path</th>\n",
       "      <th>face_score1</th>\n",
       "      <th>face_score2</th>\n",
       "    </tr>\n",
       "  </thead>\n",
       "  <tbody>\n",
       "    <tr>\n",
       "      <th>0</th>\n",
       "      <td>27</td>\n",
       "      <td>1</td>\n",
       "      <td>data/wiki/17/10000217_1981-05-05_2009.jpg</td>\n",
       "      <td>4.30096</td>\n",
       "      <td>NaN</td>\n",
       "    </tr>\n",
       "    <tr>\n",
       "      <th>1</th>\n",
       "      <td>38</td>\n",
       "      <td>1</td>\n",
       "      <td>data/wiki/48/10000548_1925-04-04_1964.jpg</td>\n",
       "      <td>2.64564</td>\n",
       "      <td>1.94925</td>\n",
       "    </tr>\n",
       "    <tr>\n",
       "      <th>2</th>\n",
       "      <td>59</td>\n",
       "      <td>1</td>\n",
       "      <td>data/wiki/12/100012_1948-07-03_2008.jpg</td>\n",
       "      <td>4.32933</td>\n",
       "      <td>NaN</td>\n",
       "    </tr>\n",
       "    <tr>\n",
       "      <th>3</th>\n",
       "      <td>30</td>\n",
       "      <td>1</td>\n",
       "      <td>data/wiki/65/10001965_1930-05-23_1961.jpg</td>\n",
       "      <td>-inf</td>\n",
       "      <td>NaN</td>\n",
       "    </tr>\n",
       "    <tr>\n",
       "      <th>4</th>\n",
       "      <td>40</td>\n",
       "      <td>0</td>\n",
       "      <td>data/wiki/16/10002116_1971-05-31_2012.jpg</td>\n",
       "      <td>3.40844</td>\n",
       "      <td>NaN</td>\n",
       "    </tr>\n",
       "  </tbody>\n",
       "</table>\n",
       "</div>"
      ],
      "text/plain": [
       "  age gender                                       path face_score1  \\\n",
       "0  27      1  data/wiki/17/10000217_1981-05-05_2009.jpg     4.30096   \n",
       "1  38      1  data/wiki/48/10000548_1925-04-04_1964.jpg     2.64564   \n",
       "2  59      1    data/wiki/12/100012_1948-07-03_2008.jpg     4.32933   \n",
       "3  30      1  data/wiki/65/10001965_1930-05-23_1961.jpg        -inf   \n",
       "4  40      0  data/wiki/16/10002116_1971-05-31_2012.jpg     3.40844   \n",
       "\n",
       "  face_score2  \n",
       "0         NaN  \n",
       "1     1.94925  \n",
       "2         NaN  \n",
       "3         NaN  \n",
       "4         NaN  "
      ]
     },
     "execution_count": 13,
     "metadata": {},
     "output_type": "execute_result"
    }
   ],
   "source": [
    "wiki_df.head()"
   ]
  },
  {
   "cell_type": "code",
   "execution_count": 14,
   "metadata": {
    "scrolled": true
   },
   "outputs": [
    {
     "data": {
      "text/plain": [
       "age               16\n",
       "gender          2643\n",
       "path               0\n",
       "face_score1        0\n",
       "face_score2    58232\n",
       "dtype: int64"
      ]
     },
     "execution_count": 14,
     "metadata": {},
     "output_type": "execute_result"
    }
   ],
   "source": [
    "wiki_df.isnull().sum()"
   ]
  },
  {
   "cell_type": "markdown",
   "metadata": {},
   "source": [
    "Drop missing values and photos with missing face or 2 faces:"
   ]
  },
  {
   "cell_type": "code",
   "execution_count": 15,
   "metadata": {},
   "outputs": [],
   "source": [
    "wiki_df['face_score1'].replace([np.inf, -np.inf], np.nan, inplace=True)\n",
    "wiki_df = wiki_df.dropna(subset=['age', 'gender', 'face_score1'])\n",
    "wiki_df = wiki_df[wiki_df['face_score2'].isnull()]"
   ]
  },
  {
   "cell_type": "code",
   "execution_count": 16,
   "metadata": {},
   "outputs": [
    {
     "data": {
      "text/plain": [
       "age                0\n",
       "gender             0\n",
       "path               0\n",
       "face_score1        0\n",
       "face_score2    39449\n",
       "dtype: int64"
      ]
     },
     "execution_count": 16,
     "metadata": {},
     "output_type": "execute_result"
    }
   ],
   "source": [
    "wiki_df.isnull().sum()"
   ]
  },
  {
   "cell_type": "code",
   "execution_count": 17,
   "metadata": {},
   "outputs": [],
   "source": [
    "wiki_df = wiki_df.drop(['face_score1', 'face_score2'], axis=1)"
   ]
  },
  {
   "cell_type": "markdown",
   "metadata": {},
   "source": [
    "Now we have our final dataframe"
   ]
  },
  {
   "cell_type": "code",
   "execution_count": 18,
   "metadata": {},
   "outputs": [
    {
     "data": {
      "text/html": [
       "<div>\n",
       "<style scoped>\n",
       "    .dataframe tbody tr th:only-of-type {\n",
       "        vertical-align: middle;\n",
       "    }\n",
       "\n",
       "    .dataframe tbody tr th {\n",
       "        vertical-align: top;\n",
       "    }\n",
       "\n",
       "    .dataframe thead th {\n",
       "        text-align: right;\n",
       "    }\n",
       "</style>\n",
       "<table border=\"1\" class=\"dataframe\">\n",
       "  <thead>\n",
       "    <tr style=\"text-align: right;\">\n",
       "      <th></th>\n",
       "      <th>age</th>\n",
       "      <th>gender</th>\n",
       "      <th>path</th>\n",
       "    </tr>\n",
       "  </thead>\n",
       "  <tbody>\n",
       "    <tr>\n",
       "      <th>0</th>\n",
       "      <td>27</td>\n",
       "      <td>1</td>\n",
       "      <td>data/wiki/17/10000217_1981-05-05_2009.jpg</td>\n",
       "    </tr>\n",
       "    <tr>\n",
       "      <th>2</th>\n",
       "      <td>59</td>\n",
       "      <td>1</td>\n",
       "      <td>data/wiki/12/100012_1948-07-03_2008.jpg</td>\n",
       "    </tr>\n",
       "    <tr>\n",
       "      <th>4</th>\n",
       "      <td>40</td>\n",
       "      <td>0</td>\n",
       "      <td>data/wiki/16/10002116_1971-05-31_2012.jpg</td>\n",
       "    </tr>\n",
       "    <tr>\n",
       "      <th>5</th>\n",
       "      <td>51</td>\n",
       "      <td>0</td>\n",
       "      <td>data/wiki/02/10002702_1960-11-09_2012.jpg</td>\n",
       "    </tr>\n",
       "    <tr>\n",
       "      <th>6</th>\n",
       "      <td>33</td>\n",
       "      <td>1</td>\n",
       "      <td>data/wiki/41/10003541_1937-09-27_1971.jpg</td>\n",
       "    </tr>\n",
       "  </tbody>\n",
       "</table>\n",
       "</div>"
      ],
      "text/plain": [
       "  age gender                                       path\n",
       "0  27      1  data/wiki/17/10000217_1981-05-05_2009.jpg\n",
       "2  59      1    data/wiki/12/100012_1948-07-03_2008.jpg\n",
       "4  40      0  data/wiki/16/10002116_1971-05-31_2012.jpg\n",
       "5  51      0  data/wiki/02/10002702_1960-11-09_2012.jpg\n",
       "6  33      1  data/wiki/41/10003541_1937-09-27_1971.jpg"
      ]
     },
     "execution_count": 18,
     "metadata": {},
     "output_type": "execute_result"
    }
   ],
   "source": [
    "wiki_df.head()"
   ]
  },
  {
   "cell_type": "markdown",
   "metadata": {},
   "source": [
    "### 1.2. Image preprocessing\n"
   ]
  },
  {
   "cell_type": "markdown",
   "metadata": {},
   "source": [
    "In this part we would detect the face and scale the image."
   ]
  },
  {
   "cell_type": "code",
   "execution_count": 19,
   "metadata": {},
   "outputs": [],
   "source": [
    "import cv2"
   ]
  },
  {
   "cell_type": "code",
   "execution_count": 20,
   "metadata": {},
   "outputs": [],
   "source": [
    "face_cascade = cv2.CascadeClassifier('data/face_detector.xml')"
   ]
  },
  {
   "cell_type": "code",
   "execution_count": null,
   "metadata": {},
   "outputs": [],
   "source": [
    "cropped_path = []\n",
    "i = 0\n",
    "for file in wiki_df['path']:\n",
    "    try:\n",
    "        img = cv2.imread(file)\n",
    "        faces = face_cascade.detectMultiScale(img, 1.1, 4, minSize=(64, 64))\n",
    "        if len(faces) == 1:\n",
    "            #x, y, w, h = faces[0][0], faces[0][1], faces[0][2], faces[0][3]\n",
    "            #crop_img = img[y:y+h, x:x+w]\n",
    "            new_path = 'data/wiki_crop/' + file[13:]\n",
    "            cropped_path.append(new_path)\n",
    "            #crop_img = cv2.resize(crop_img, (128, 128), interpolation = cv2.INTER_AREA) \n",
    "            #cv2.imwrite(new_path, crop_img)\n",
    "        else:\n",
    "            cropped_path.append(None)\n",
    "    except:\n",
    "        cropped_path.append(None)"
   ]
  },
  {
   "cell_type": "markdown",
   "metadata": {},
   "source": [
    "Now compare the original photo with the cropped one"
   ]
  },
  {
   "cell_type": "code",
   "execution_count": 24,
   "metadata": {},
   "outputs": [
    {
     "data": {
      "image/png": "[encoded data removed]",
      "text/plain": [
       "<Figure size 432x288 with 2 Axes>"
      ]
     },
     "metadata": {
      "needs_background": "light"
     },
     "output_type": "display_data"
    }
   ],
   "source": [
    "pre = cv2.imread('data/wiki/49/10049_1945-03-30_2008.jpg')\n",
    "post = cv2.imread('data/wiki_crop/10049_1945-03-30_2008.jpg')\n",
    "f, ax = plt.subplots(1,2)\n",
    "ax[0].imshow(pre)\n",
    "ax[1].imshow(post)\n",
    "plt.show()"
   ]
  },
  {
   "cell_type": "code",
   "execution_count": 29,
   "metadata": {},
   "outputs": [
    {
     "data": {
      "text/html": [
       "<div>\n",
       "<style scoped>\n",
       "    .dataframe tbody tr th:only-of-type {\n",
       "        vertical-align: middle;\n",
       "    }\n",
       "\n",
       "    .dataframe tbody tr th {\n",
       "        vertical-align: top;\n",
       "    }\n",
       "\n",
       "    .dataframe thead th {\n",
       "        text-align: right;\n",
       "    }\n",
       "</style>\n",
       "<table border=\"1\" class=\"dataframe\">\n",
       "  <thead>\n",
       "    <tr style=\"text-align: right;\">\n",
       "      <th></th>\n",
       "      <th>age</th>\n",
       "      <th>gender</th>\n",
       "      <th>path</th>\n",
       "    </tr>\n",
       "  </thead>\n",
       "  <tbody>\n",
       "    <tr>\n",
       "      <th>0</th>\n",
       "      <td>27</td>\n",
       "      <td>1</td>\n",
       "      <td>data/wiki_crop/10000217_1981-05-05_2009.jpg</td>\n",
       "    </tr>\n",
       "    <tr>\n",
       "      <th>2</th>\n",
       "      <td>59</td>\n",
       "      <td>1</td>\n",
       "      <td>data/wiki_crop/100012_1948-07-03_2008.jpg</td>\n",
       "    </tr>\n",
       "    <tr>\n",
       "      <th>5</th>\n",
       "      <td>51</td>\n",
       "      <td>0</td>\n",
       "      <td>data/wiki_crop/10002702_1960-11-09_2012.jpg</td>\n",
       "    </tr>\n",
       "    <tr>\n",
       "      <th>6</th>\n",
       "      <td>33</td>\n",
       "      <td>1</td>\n",
       "      <td>data/wiki_crop/10003541_1937-09-27_1971.jpg</td>\n",
       "    </tr>\n",
       "    <tr>\n",
       "      <th>10</th>\n",
       "      <td>41</td>\n",
       "      <td>1</td>\n",
       "      <td>data/wiki_crop/10004299_1908-08-19_1950.jpg</td>\n",
       "    </tr>\n",
       "  </tbody>\n",
       "</table>\n",
       "</div>"
      ],
      "text/plain": [
       "   age gender                                         path\n",
       "0   27      1  data/wiki_crop/10000217_1981-05-05_2009.jpg\n",
       "2   59      1    data/wiki_crop/100012_1948-07-03_2008.jpg\n",
       "5   51      0  data/wiki_crop/10002702_1960-11-09_2012.jpg\n",
       "6   33      1  data/wiki_crop/10003541_1937-09-27_1971.jpg\n",
       "10  41      1  data/wiki_crop/10004299_1908-08-19_1950.jpg"
      ]
     },
     "execution_count": 29,
     "metadata": {},
     "output_type": "execute_result"
    }
   ],
   "source": [
    "wiki_df.head()"
   ]
  },
  {
   "cell_type": "code",
   "execution_count": 22,
   "metadata": {},
   "outputs": [],
   "source": [
    "#to load\n",
    "import os\n",
    "cropped_path = []\n",
    "for file in wiki_df['path']:\n",
    "    new_path = 'data/wiki_crop/' + file[13:]\n",
    "    if os.path.exists(new_path):\n",
    "        cropped_path.append(new_path)\n",
    "    else:\n",
    "        cropped_path.append(None)"
   ]
  },
  {
   "cell_type": "code",
   "execution_count": 23,
   "metadata": {},
   "outputs": [],
   "source": [
    "wiki_df['path'] = cropped_path"
   ]
  },
  {
   "cell_type": "code",
   "execution_count": 25,
   "metadata": {},
   "outputs": [],
   "source": [
    "wiki_df = wiki_df.reset_index()"
   ]
  },
  {
   "cell_type": "code",
   "execution_count": 155,
   "metadata": {},
   "outputs": [
    {
     "name": "stderr",
     "output_type": "stream",
     "text": [
      "<ipython-input-155-d7b4d133b716>:7: UserWarning: DEPRECATED: skimage.measure.compare_ssim has been moved to skimage.metrics.structural_similarity. It will be removed from skimage.measure in version 0.18.\n",
      "  s = ssim(img1,img2, multichannel = True)\n"
     ]
    }
   ],
   "source": [
    "#Contradictory samplescheck\n",
    "from skimage.measure import compare_ssim as ssim \n",
    "\n",
    "for i in range(len(wiki_df['path'])-1):\n",
    "    for j in range(i+1, len(wiki_df['path'])):\n",
    "        img1 = cv2.imread(wiki_df['path'][i])\n",
    "        img2 = cv2.imread(wiki_df['path'][j])\n",
    "        s = ssim(img1,img2, multichannel = True)  \n",
    "        if (s > 0.8):\n",
    "            if (abs(wiki_df['age'][i]-wiki_df['age'][j]) > 10) or wiki_df['gender'][i] != wiki_df['gender'][j]:\n",
    "                wiki_df['path'][i] = None\n",
    "                wiki_df['path'][j] = None\n",
    "            "
   ]
  },
  {
   "cell_type": "code",
   "execution_count": 24,
   "metadata": {},
   "outputs": [],
   "source": [
    "wiki_df = wiki_df.dropna(subset=['path'])"
   ]
  },
  {
   "cell_type": "code",
   "execution_count": 26,
   "metadata": {},
   "outputs": [
    {
     "data": {
      "text/html": [
       "<div>\n",
       "<style scoped>\n",
       "    .dataframe tbody tr th:only-of-type {\n",
       "        vertical-align: middle;\n",
       "    }\n",
       "\n",
       "    .dataframe tbody tr th {\n",
       "        vertical-align: top;\n",
       "    }\n",
       "\n",
       "    .dataframe thead th {\n",
       "        text-align: right;\n",
       "    }\n",
       "</style>\n",
       "<table border=\"1\" class=\"dataframe\">\n",
       "  <thead>\n",
       "    <tr style=\"text-align: right;\">\n",
       "      <th></th>\n",
       "      <th>index</th>\n",
       "      <th>age</th>\n",
       "      <th>gender</th>\n",
       "      <th>path</th>\n",
       "    </tr>\n",
       "  </thead>\n",
       "  <tbody>\n",
       "    <tr>\n",
       "      <th>0</th>\n",
       "      <td>0</td>\n",
       "      <td>27</td>\n",
       "      <td>1</td>\n",
       "      <td>data/wiki_crop/10000217_1981-05-05_2009.jpg</td>\n",
       "    </tr>\n",
       "    <tr>\n",
       "      <th>1</th>\n",
       "      <td>2</td>\n",
       "      <td>59</td>\n",
       "      <td>1</td>\n",
       "      <td>data/wiki_crop/100012_1948-07-03_2008.jpg</td>\n",
       "    </tr>\n",
       "    <tr>\n",
       "      <th>2</th>\n",
       "      <td>5</td>\n",
       "      <td>51</td>\n",
       "      <td>0</td>\n",
       "      <td>data/wiki_crop/10002702_1960-11-09_2012.jpg</td>\n",
       "    </tr>\n",
       "    <tr>\n",
       "      <th>3</th>\n",
       "      <td>6</td>\n",
       "      <td>33</td>\n",
       "      <td>1</td>\n",
       "      <td>data/wiki_crop/10003541_1937-09-27_1971.jpg</td>\n",
       "    </tr>\n",
       "    <tr>\n",
       "      <th>4</th>\n",
       "      <td>10</td>\n",
       "      <td>41</td>\n",
       "      <td>1</td>\n",
       "      <td>data/wiki_crop/10004299_1908-08-19_1950.jpg</td>\n",
       "    </tr>\n",
       "    <tr>\n",
       "      <th>...</th>\n",
       "      <td>...</td>\n",
       "      <td>...</td>\n",
       "      <td>...</td>\n",
       "      <td>...</td>\n",
       "    </tr>\n",
       "    <tr>\n",
       "      <th>26419</th>\n",
       "      <td>62321</td>\n",
       "      <td>30</td>\n",
       "      <td>1</td>\n",
       "      <td>data/wiki_crop/9996938_1937-02-15_1968.jpg</td>\n",
       "    </tr>\n",
       "    <tr>\n",
       "      <th>26420</th>\n",
       "      <td>62322</td>\n",
       "      <td>24</td>\n",
       "      <td>1</td>\n",
       "      <td>data/wiki_crop/9996946_1943-11-01_1968.jpg</td>\n",
       "    </tr>\n",
       "    <tr>\n",
       "      <th>26421</th>\n",
       "      <td>62323</td>\n",
       "      <td>25</td>\n",
       "      <td>1</td>\n",
       "      <td>data/wiki_crop/9996949_1937-04-17_1963.jpg</td>\n",
       "    </tr>\n",
       "    <tr>\n",
       "      <th>26422</th>\n",
       "      <td>62325</td>\n",
       "      <td>40</td>\n",
       "      <td>1</td>\n",
       "      <td>data/wiki_crop/9998109_1972-12-27_2013.jpg</td>\n",
       "    </tr>\n",
       "    <tr>\n",
       "      <th>26423</th>\n",
       "      <td>62327</td>\n",
       "      <td>53</td>\n",
       "      <td>0</td>\n",
       "      <td>data/wiki_crop/999980_1954-06-11_2008.jpg</td>\n",
       "    </tr>\n",
       "  </tbody>\n",
       "</table>\n",
       "<p>26424 rows × 4 columns</p>\n",
       "</div>"
      ],
      "text/plain": [
       "       index age gender                                         path\n",
       "0          0  27      1  data/wiki_crop/10000217_1981-05-05_2009.jpg\n",
       "1          2  59      1    data/wiki_crop/100012_1948-07-03_2008.jpg\n",
       "2          5  51      0  data/wiki_crop/10002702_1960-11-09_2012.jpg\n",
       "3          6  33      1  data/wiki_crop/10003541_1937-09-27_1971.jpg\n",
       "4         10  41      1  data/wiki_crop/10004299_1908-08-19_1950.jpg\n",
       "...      ...  ..    ...                                          ...\n",
       "26419  62321  30      1   data/wiki_crop/9996938_1937-02-15_1968.jpg\n",
       "26420  62322  24      1   data/wiki_crop/9996946_1943-11-01_1968.jpg\n",
       "26421  62323  25      1   data/wiki_crop/9996949_1937-04-17_1963.jpg\n",
       "26422  62325  40      1   data/wiki_crop/9998109_1972-12-27_2013.jpg\n",
       "26423  62327  53      0    data/wiki_crop/999980_1954-06-11_2008.jpg\n",
       "\n",
       "[26424 rows x 4 columns]"
      ]
     },
     "execution_count": 26,
     "metadata": {},
     "output_type": "execute_result"
    }
   ],
   "source": [
    "wiki_df"
   ]
  },
  {
   "cell_type": "markdown",
   "metadata": {},
   "source": [
    "## Part 2. Training"
   ]
  },
  {
   "cell_type": "code",
   "execution_count": 118,
   "metadata": {},
   "outputs": [],
   "source": [
    "images = []\n",
    "for file in wiki_df['path'][:10000]:\n",
    "    img = cv2.imread(file)\n",
    "    img = cv2.cvtColor(img, cv2.COLOR_BGR2GRAY)\n",
    "    images.append(img)\n",
    "images = np.array(images)\n",
    "images = images.astype('float32')\n",
    "\n",
    "labels = np.column_stack((wiki_df['gender'][:10000].astype('int32'), wiki_df['age'][:10000].astype('int32'))).astype('int32')"
   ]
  },
  {
   "cell_type": "code",
   "execution_count": 119,
   "metadata": {},
   "outputs": [],
   "source": [
    "from sklearn.model_selection import train_test_split\n",
    "X_train, X_test, Y_train, Y_test = train_test_split(images[:10000], labels[:10000], test_size=0.25)\n",
    "Y_train = [Y_train[:,1],Y_train[:,0]]\n",
    "Y_test = [Y_test[:,1],Y_test[:,0]]"
   ]
  },
  {
   "cell_type": "code",
   "execution_count": 120,
   "metadata": {},
   "outputs": [],
   "source": [
    "from tensorflow.keras.layers import Dropout\n",
    "from tensorflow.keras.layers import Flatten,BatchNormalization\n",
    "from tensorflow.keras.layers import Dense, MaxPooling2D,Conv2D\n",
    "from tensorflow.keras.layers import Input,Activation,Add\n",
    "from tensorflow.keras.models import Model, load_model\n",
    "from tensorflow.keras.regularizers import l2\n",
    "from tensorflow.keras.optimizers import Adam\n",
    "import tensorflow as tf\n",
    "\n",
    "def Convolution(input_tensor,filters):\n",
    "    x = Conv2D(filters=filters,kernel_size=(3, 3),padding = 'same',strides=(1, 1),kernel_regularizer=l2(0.001))(input_tensor)\n",
    "    x = Dropout(0.1)(x)\n",
    "    x= Activation('relu')(x)\n",
    "    return x\n",
    "\n",
    "def model(input_shape):\n",
    "    inputs = Input((input_shape))\n",
    "    conv_1= Convolution(inputs,32)\n",
    "    maxp_1 = MaxPooling2D(pool_size = (2,2)) (conv_1)\n",
    "    conv_2 = Convolution(maxp_1,64)\n",
    "    maxp_2 = MaxPooling2D(pool_size = (2, 2)) (conv_2)\n",
    "    conv_3 = Convolution(maxp_2,128)\n",
    "    maxp_3 = MaxPooling2D(pool_size = (2, 2)) (conv_3)\n",
    "    conv_4 = Convolution(maxp_3,256)\n",
    "    maxp_4 = MaxPooling2D(pool_size = (2, 2)) (conv_4)\n",
    "    flatten= Flatten() (maxp_4)\n",
    "    dense_1= Dense(64,activation='relu')(flatten)\n",
    "    dense_2= Dense(64,activation='relu')(flatten)\n",
    "    drop_1=Dropout(0.2)(dense_1)\n",
    "    drop_2=Dropout(0.2)(dense_2)\n",
    "    output_1= Dense(1,activation=\"sigmoid\",name='gender')(drop_1)\n",
    "    output_2= Dense(1,activation=\"relu\",name='age')(drop_2)\n",
    "    model = Model(inputs=[inputs], outputs=[output_1,output_2])\n",
    "    model.compile(loss=[\"binary_crossentropy\",\"mae\"], optimizer=\"Adam\",metrics=[\"accuracy\", \"mae\"])\n",
    "    return model"
   ]
  },
  {
   "cell_type": "code",
   "execution_count": 121,
   "metadata": {},
   "outputs": [],
   "source": [
    "Model=model((128,128,1))"
   ]
  },
  {
   "cell_type": "code",
   "execution_count": 122,
   "metadata": {},
   "outputs": [
    {
     "name": "stdout",
     "output_type": "stream",
     "text": [
      "Model: \"functional_21\"\n",
      "__________________________________________________________________________________________________\n",
      "Layer (type)                    Output Shape         Param #     Connected to                     \n",
      "==================================================================================================\n",
      "input_11 (InputLayer)           [(None, 128, 128, 1) 0                                            \n",
      "__________________________________________________________________________________________________\n",
      "conv2d_40 (Conv2D)              (None, 128, 128, 32) 320         input_11[0][0]                   \n",
      "__________________________________________________________________________________________________\n",
      "dropout_60 (Dropout)            (None, 128, 128, 32) 0           conv2d_40[0][0]                  \n",
      "__________________________________________________________________________________________________\n",
      "activation_40 (Activation)      (None, 128, 128, 32) 0           dropout_60[0][0]                 \n",
      "__________________________________________________________________________________________________\n",
      "max_pooling2d_40 (MaxPooling2D) (None, 64, 64, 32)   0           activation_40[0][0]              \n",
      "__________________________________________________________________________________________________\n",
      "conv2d_41 (Conv2D)              (None, 64, 64, 64)   18496       max_pooling2d_40[0][0]           \n",
      "__________________________________________________________________________________________________\n",
      "dropout_61 (Dropout)            (None, 64, 64, 64)   0           conv2d_41[0][0]                  \n",
      "__________________________________________________________________________________________________\n",
      "activation_41 (Activation)      (None, 64, 64, 64)   0           dropout_61[0][0]                 \n",
      "__________________________________________________________________________________________________\n",
      "max_pooling2d_41 (MaxPooling2D) (None, 32, 32, 64)   0           activation_41[0][0]              \n",
      "__________________________________________________________________________________________________\n",
      "conv2d_42 (Conv2D)              (None, 32, 32, 128)  73856       max_pooling2d_41[0][0]           \n",
      "__________________________________________________________________________________________________\n",
      "dropout_62 (Dropout)            (None, 32, 32, 128)  0           conv2d_42[0][0]                  \n",
      "__________________________________________________________________________________________________\n",
      "activation_42 (Activation)      (None, 32, 32, 128)  0           dropout_62[0][0]                 \n",
      "__________________________________________________________________________________________________\n",
      "max_pooling2d_42 (MaxPooling2D) (None, 16, 16, 128)  0           activation_42[0][0]              \n",
      "__________________________________________________________________________________________________\n",
      "conv2d_43 (Conv2D)              (None, 16, 16, 256)  295168      max_pooling2d_42[0][0]           \n",
      "__________________________________________________________________________________________________\n",
      "dropout_63 (Dropout)            (None, 16, 16, 256)  0           conv2d_43[0][0]                  \n",
      "__________________________________________________________________________________________________\n",
      "activation_43 (Activation)      (None, 16, 16, 256)  0           dropout_63[0][0]                 \n",
      "__________________________________________________________________________________________________\n",
      "max_pooling2d_43 (MaxPooling2D) (None, 8, 8, 256)    0           activation_43[0][0]              \n",
      "__________________________________________________________________________________________________\n",
      "flatten_10 (Flatten)            (None, 16384)        0           max_pooling2d_43[0][0]           \n",
      "__________________________________________________________________________________________________\n",
      "dense_20 (Dense)                (None, 64)           1048640     flatten_10[0][0]                 \n",
      "__________________________________________________________________________________________________\n",
      "dense_21 (Dense)                (None, 64)           1048640     flatten_10[0][0]                 \n",
      "__________________________________________________________________________________________________\n",
      "dropout_64 (Dropout)            (None, 64)           0           dense_20[0][0]                   \n",
      "__________________________________________________________________________________________________\n",
      "dropout_65 (Dropout)            (None, 64)           0           dense_21[0][0]                   \n",
      "__________________________________________________________________________________________________\n",
      "gender (Dense)                  (None, 1)            65          dropout_64[0][0]                 \n",
      "__________________________________________________________________________________________________\n",
      "age (Dense)                     (None, 1)            65          dropout_65[0][0]                 \n",
      "==================================================================================================\n",
      "Total params: 2,485,250\n",
      "Trainable params: 2,485,250\n",
      "Non-trainable params: 0\n",
      "__________________________________________________________________________________________________\n"
     ]
    }
   ],
   "source": [
    "Model.summary()"
   ]
  },
  {
   "cell_type": "code",
   "execution_count": 123,
   "metadata": {
    "scrolled": true
   },
   "outputs": [
    {
     "name": "stdout",
     "output_type": "stream",
     "text": [
      "Epoch 1/75\n",
      "118/118 [==============================] - ETA: 0s - loss: 24.0556 - gender_loss: 3.4228 - age_loss: 20.3547 - gender_accuracy: 0.7192 - gender_mae: 0.3911 - age_accuracy: 0.0000e+00 - age_mae: 20.3547\n",
      "Epoch 00001: val_loss improved from inf to 17.01345, saving model to 20thousand.h5\n",
      "118/118 [==============================] - 201s 2s/step - loss: 24.0556 - gender_loss: 3.4228 - age_loss: 20.3547 - gender_accuracy: 0.7192 - gender_mae: 0.3911 - age_accuracy: 0.0000e+00 - age_mae: 20.3547 - val_loss: 17.0135 - val_gender_loss: 0.5441 - val_age_loss: 16.2121 - val_gender_accuracy: 0.7556 - val_gender_mae: 0.3772 - val_age_accuracy: 0.0000e+00 - val_age_mae: 16.2121\n",
      "Epoch 2/75\n",
      "118/118 [==============================] - ETA: 0s - loss: 15.9226 - gender_loss: 0.5608 - age_loss: 15.1143 - gender_accuracy: 0.7460 - gender_mae: 0.3764 - age_accuracy: 0.0000e+00 - age_mae: 15.1143\n",
      "Epoch 00002: val_loss did not improve from 17.01345\n",
      "118/118 [==============================] - 200s 2s/step - loss: 15.9226 - gender_loss: 0.5608 - age_loss: 15.1143 - gender_accuracy: 0.7460 - gender_mae: 0.3764 - age_accuracy: 0.0000e+00 - age_mae: 15.1143 - val_loss: 19.7984 - val_gender_loss: 0.5153 - val_age_loss: 19.0430 - val_gender_accuracy: 0.7556 - val_gender_mae: 0.3566 - val_age_accuracy: 0.0000e+00 - val_age_mae: 19.0430\n",
      "Epoch 3/75\n",
      "118/118 [==============================] - ETA: 0s - loss: 15.4854 - gender_loss: 0.5335 - age_loss: 14.7164 - gender_accuracy: 0.7460 - gender_mae: 0.3570 - age_accuracy: 0.0000e+00 - age_mae: 14.7164\n",
      "Epoch 00003: val_loss did not improve from 17.01345\n",
      "118/118 [==============================] - 197s 2s/step - loss: 15.4854 - gender_loss: 0.5335 - age_loss: 14.7164 - gender_accuracy: 0.7460 - gender_mae: 0.3570 - age_accuracy: 0.0000e+00 - age_mae: 14.7164 - val_loss: 19.5534 - val_gender_loss: 0.5214 - val_age_loss: 18.8001 - val_gender_accuracy: 0.7556 - val_gender_mae: 0.3845 - val_age_accuracy: 0.0000e+00 - val_age_mae: 18.8001\n",
      "Epoch 4/75\n",
      "118/118 [==============================] - ETA: 0s - loss: 15.0405 - gender_loss: 0.5090 - age_loss: 14.3007 - gender_accuracy: 0.7477 - gender_mae: 0.3342 - age_accuracy: 0.0000e+00 - age_mae: 14.3007\n",
      "Epoch 00004: val_loss improved from 17.01345 to 15.19656, saving model to 20thousand.h5\n",
      "118/118 [==============================] - 197s 2s/step - loss: 15.0405 - gender_loss: 0.5090 - age_loss: 14.3007 - gender_accuracy: 0.7477 - gender_mae: 0.3342 - age_accuracy: 0.0000e+00 - age_mae: 14.3007 - val_loss: 15.1966 - val_gender_loss: 0.5159 - val_age_loss: 14.4495 - val_gender_accuracy: 0.7964 - val_gender_mae: 0.3833 - val_age_accuracy: 0.0000e+00 - val_age_mae: 14.4495\n",
      "Epoch 5/75\n",
      "118/118 [==============================] - ETA: 0s - loss: 14.5479 - gender_loss: 0.4848 - age_loss: 13.8313 - gender_accuracy: 0.7780 - gender_mae: 0.3179 - age_accuracy: 0.0000e+00 - age_mae: 13.8313\n",
      "Epoch 00005: val_loss did not improve from 15.19656\n",
      "118/118 [==============================] - 197s 2s/step - loss: 14.5479 - gender_loss: 0.4848 - age_loss: 13.8313 - gender_accuracy: 0.7780 - gender_mae: 0.3179 - age_accuracy: 0.0000e+00 - age_mae: 13.8313 - val_loss: 16.2688 - val_gender_loss: 0.4778 - val_age_loss: 15.5601 - val_gender_accuracy: 0.7712 - val_gender_mae: 0.3208 - val_age_accuracy: 0.0000e+00 - val_age_mae: 15.5601\n",
      "Epoch 6/75\n",
      "118/118 [==============================] - ETA: 0s - loss: 13.9386 - gender_loss: 0.4726 - age_loss: 13.2356 - gender_accuracy: 0.7897 - gender_mae: 0.3097 - age_accuracy: 0.0000e+00 - age_mae: 13.2356\n",
      "Epoch 00006: val_loss improved from 15.19656 to 14.77623, saving model to 20thousand.h5\n",
      "118/118 [==============================] - 197s 2s/step - loss: 13.9386 - gender_loss: 0.4726 - age_loss: 13.2356 - gender_accuracy: 0.7897 - gender_mae: 0.3097 - age_accuracy: 0.0000e+00 - age_mae: 13.2356 - val_loss: 14.7762 - val_gender_loss: 0.4340 - val_age_loss: 14.1110 - val_gender_accuracy: 0.8228 - val_gender_mae: 0.3063 - val_age_accuracy: 0.0000e+00 - val_age_mae: 14.1110\n",
      "Epoch 7/75\n",
      "118/118 [==============================] - ETA: 0s - loss: 13.6395 - gender_loss: 0.4421 - age_loss: 12.9655 - gender_accuracy: 0.8029 - gender_mae: 0.2889 - age_accuracy: 0.0000e+00 - age_mae: 12.9655\n",
      "Epoch 00007: val_loss improved from 14.77623 to 14.20565, saving model to 20thousand.h5\n",
      "118/118 [==============================] - 198s 2s/step - loss: 13.6395 - gender_loss: 0.4421 - age_loss: 12.9655 - gender_accuracy: 0.8029 - gender_mae: 0.2889 - age_accuracy: 0.0000e+00 - age_mae: 12.9655 - val_loss: 14.2057 - val_gender_loss: 0.4257 - val_age_loss: 13.5465 - val_gender_accuracy: 0.8392 - val_gender_mae: 0.3093 - val_age_accuracy: 0.0000e+00 - val_age_mae: 13.5465\n",
      "Epoch 8/75\n",
      "118/118 [==============================] - ETA: 0s - loss: 13.5889 - gender_loss: 0.4303 - age_loss: 12.9239 - gender_accuracy: 0.8117 - gender_mae: 0.2773 - age_accuracy: 0.0000e+00 - age_mae: 12.9239\n",
      "Epoch 00008: val_loss did not improve from 14.20565\n",
      "118/118 [==============================] - 198s 2s/step - loss: 13.5889 - gender_loss: 0.4303 - age_loss: 12.9239 - gender_accuracy: 0.8117 - gender_mae: 0.2773 - age_accuracy: 0.0000e+00 - age_mae: 12.9239 - val_loss: 15.7963 - val_gender_loss: 0.4043 - val_age_loss: 15.1565 - val_gender_accuracy: 0.8256 - val_gender_mae: 0.2673 - val_age_accuracy: 0.0000e+00 - val_age_mae: 15.1565\n",
      "Epoch 9/75\n",
      "118/118 [==============================] - ETA: 0s - loss: 12.9135 - gender_loss: 0.4054 - age_loss: 12.2712 - gender_accuracy: 0.8248 - gender_mae: 0.2601 - age_accuracy: 0.0000e+00 - age_mae: 12.2712\n",
      "Epoch 00009: val_loss did not improve from 14.20565\n",
      "118/118 [==============================] - 198s 2s/step - loss: 12.9135 - gender_loss: 0.4054 - age_loss: 12.2712 - gender_accuracy: 0.8248 - gender_mae: 0.2601 - age_accuracy: 0.0000e+00 - age_mae: 12.2712 - val_loss: 15.3975 - val_gender_loss: 0.3915 - val_age_loss: 14.7678 - val_gender_accuracy: 0.8488 - val_gender_mae: 0.2696 - val_age_accuracy: 0.0000e+00 - val_age_mae: 14.7678\n",
      "Epoch 10/75\n",
      "118/118 [==============================] - ETA: 0s - loss: 12.6611 - gender_loss: 0.3904 - age_loss: 12.0294 - gender_accuracy: 0.8279 - gender_mae: 0.2484 - age_accuracy: 0.0000e+00 - age_mae: 12.0294\n",
      "Epoch 00010: val_loss did not improve from 14.20565\n",
      "118/118 [==============================] - 197s 2s/step - loss: 12.6611 - gender_loss: 0.3904 - age_loss: 12.0294 - gender_accuracy: 0.8279 - gender_mae: 0.2484 - age_accuracy: 0.0000e+00 - age_mae: 12.0294 - val_loss: 14.8619 - val_gender_loss: 0.3765 - val_age_loss: 14.2409 - val_gender_accuracy: 0.8636 - val_gender_mae: 0.2690 - val_age_accuracy: 0.0000e+00 - val_age_mae: 14.2409\n",
      "Epoch 11/75\n",
      "118/118 [==============================] - ETA: 0s - loss: 12.3828 - gender_loss: 0.3768 - age_loss: 11.7569 - gender_accuracy: 0.8369 - gender_mae: 0.2410 - age_accuracy: 0.0000e+00 - age_mae: 11.7569\n",
      "Epoch 00011: val_loss did not improve from 14.20565\n",
      "118/118 [==============================] - 198s 2s/step - loss: 12.3828 - gender_loss: 0.3768 - age_loss: 11.7569 - gender_accuracy: 0.8369 - gender_mae: 0.2410 - age_accuracy: 0.0000e+00 - age_mae: 11.7569 - val_loss: 18.3352 - val_gender_loss: 0.3713 - val_age_loss: 17.7094 - val_gender_accuracy: 0.8564 - val_gender_mae: 0.2497 - val_age_accuracy: 0.0000e+00 - val_age_mae: 17.7094\n",
      "Epoch 12/75\n",
      "118/118 [==============================] - ETA: 0s - loss: 12.2923 - gender_loss: 0.3614 - age_loss: 11.6746 - gender_accuracy: 0.8497 - gender_mae: 0.2322 - age_accuracy: 0.0000e+00 - age_mae: 11.6746\n",
      "Epoch 00012: val_loss did not improve from 14.20565\n",
      "118/118 [==============================] - 196s 2s/step - loss: 12.2923 - gender_loss: 0.3614 - age_loss: 11.6746 - gender_accuracy: 0.8497 - gender_mae: 0.2322 - age_accuracy: 0.0000e+00 - age_mae: 11.6746 - val_loss: 16.5638 - val_gender_loss: 0.3606 - val_age_loss: 15.9445 - val_gender_accuracy: 0.8584 - val_gender_mae: 0.2447 - val_age_accuracy: 0.0000e+00 - val_age_mae: 15.9445\n",
      "Epoch 13/75\n",
      "118/118 [==============================] - ETA: 0s - loss: 11.8023 - gender_loss: 0.3350 - age_loss: 11.2053 - gender_accuracy: 0.8627 - gender_mae: 0.2144 - age_accuracy: 0.0000e+00 - age_mae: 11.2053\n",
      "Epoch 00013: val_loss improved from 14.20565 to 13.25066, saving model to 20thousand.h5\n",
      "118/118 [==============================] - 201s 2s/step - loss: 11.8023 - gender_loss: 0.3350 - age_loss: 11.2053 - gender_accuracy: 0.8627 - gender_mae: 0.2144 - age_accuracy: 0.0000e+00 - age_mae: 11.2053 - val_loss: 13.2507 - val_gender_loss: 0.3353 - val_age_loss: 12.6493 - val_gender_accuracy: 0.8708 - val_gender_mae: 0.2288 - val_age_accuracy: 0.0000e+00 - val_age_mae: 12.6493\n"
     ]
    },
    {
     "name": "stdout",
     "output_type": "stream",
     "text": [
      "Epoch 14/75\n",
      "118/118 [==============================] - ETA: 0s - loss: 11.4014 - gender_loss: 0.3294 - age_loss: 10.8007 - gender_accuracy: 0.8599 - gender_mae: 0.2092 - age_accuracy: 0.0000e+00 - age_mae: 10.8007\n",
      "Epoch 00014: val_loss did not improve from 13.25066\n",
      "118/118 [==============================] - 197s 2s/step - loss: 11.4014 - gender_loss: 0.3294 - age_loss: 10.8007 - gender_accuracy: 0.8599 - gender_mae: 0.2092 - age_accuracy: 0.0000e+00 - age_mae: 10.8007 - val_loss: 17.8572 - val_gender_loss: 0.3385 - val_age_loss: 17.2429 - val_gender_accuracy: 0.8692 - val_gender_mae: 0.2303 - val_age_accuracy: 0.0000e+00 - val_age_mae: 17.2429\n",
      "Epoch 15/75\n",
      "118/118 [==============================] - ETA: 0s - loss: 11.3865 - gender_loss: 0.3206 - age_loss: 10.7829 - gender_accuracy: 0.8691 - gender_mae: 0.2011 - age_accuracy: 0.0000e+00 - age_mae: 10.7829\n",
      "Epoch 00015: val_loss did not improve from 13.25066\n",
      "118/118 [==============================] - 196s 2s/step - loss: 11.3865 - gender_loss: 0.3206 - age_loss: 10.7829 - gender_accuracy: 0.8691 - gender_mae: 0.2011 - age_accuracy: 0.0000e+00 - age_mae: 10.7829 - val_loss: 16.3087 - val_gender_loss: 0.3335 - val_age_loss: 15.6858 - val_gender_accuracy: 0.8720 - val_gender_mae: 0.2153 - val_age_accuracy: 0.0000e+00 - val_age_mae: 15.6858\n",
      "Epoch 16/75\n",
      "118/118 [==============================] - ETA: 0s - loss: 10.9216 - gender_loss: 0.2994 - age_loss: 10.3284 - gender_accuracy: 0.8777 - gender_mae: 0.1889 - age_accuracy: 0.0000e+00 - age_mae: 10.3284\n",
      "Epoch 00016: val_loss improved from 13.25066 to 12.13080, saving model to 20thousand.h5\n",
      "118/118 [==============================] - 197s 2s/step - loss: 10.9216 - gender_loss: 0.2994 - age_loss: 10.3284 - gender_accuracy: 0.8777 - gender_mae: 0.1889 - age_accuracy: 0.0000e+00 - age_mae: 10.3284 - val_loss: 12.1308 - val_gender_loss: 0.3096 - val_age_loss: 11.5229 - val_gender_accuracy: 0.8744 - val_gender_mae: 0.1817 - val_age_accuracy: 0.0000e+00 - val_age_mae: 11.5229\n",
      "Epoch 17/75\n",
      "118/118 [==============================] - ETA: 0s - loss: 11.0337 - gender_loss: 0.3205 - age_loss: 10.4111 - gender_accuracy: 0.8681 - gender_mae: 0.1994 - age_accuracy: 0.0000e+00 - age_mae: 10.4111\n",
      "Epoch 00017: val_loss did not improve from 12.13080\n",
      "118/118 [==============================] - 197s 2s/step - loss: 11.0337 - gender_loss: 0.3205 - age_loss: 10.4111 - gender_accuracy: 0.8681 - gender_mae: 0.1994 - age_accuracy: 0.0000e+00 - age_mae: 10.4111 - val_loss: 17.7006 - val_gender_loss: 0.3271 - val_age_loss: 17.0691 - val_gender_accuracy: 0.8792 - val_gender_mae: 0.2106 - val_age_accuracy: 0.0000e+00 - val_age_mae: 17.0691\n",
      "Epoch 18/75\n",
      "118/118 [==============================] - ETA: 0s - loss: 10.6401 - gender_loss: 0.3129 - age_loss: 10.0178 - gender_accuracy: 0.8616 - gender_mae: 0.1984 - age_accuracy: 0.0000e+00 - age_mae: 10.0178\n",
      "Epoch 00018: val_loss improved from 12.13080 to 11.72794, saving model to 20thousand.h5\n",
      "118/118 [==============================] - 196s 2s/step - loss: 10.6401 - gender_loss: 0.3129 - age_loss: 10.0178 - gender_accuracy: 0.8616 - gender_mae: 0.1984 - age_accuracy: 0.0000e+00 - age_mae: 10.0178 - val_loss: 11.7279 - val_gender_loss: 0.3221 - val_age_loss: 11.0914 - val_gender_accuracy: 0.8744 - val_gender_mae: 0.2103 - val_age_accuracy: 0.0000e+00 - val_age_mae: 11.0914\n",
      "Epoch 19/75\n",
      "118/118 [==============================] - ETA: 0s - loss: 10.5457 - gender_loss: 0.2777 - age_loss: 9.9478 - gender_accuracy: 0.8839 - gender_mae: 0.1772 - age_accuracy: 0.0000e+00 - age_mae: 9.9478\n",
      "Epoch 00019: val_loss did not improve from 11.72794\n",
      "118/118 [==============================] - 197s 2s/step - loss: 10.5457 - gender_loss: 0.2777 - age_loss: 9.9478 - gender_accuracy: 0.8839 - gender_mae: 0.1772 - age_accuracy: 0.0000e+00 - age_mae: 9.9478 - val_loss: 12.2130 - val_gender_loss: 0.3177 - val_age_loss: 11.5701 - val_gender_accuracy: 0.8760 - val_gender_mae: 0.1668 - val_age_accuracy: 0.0000e+00 - val_age_mae: 11.5701\n",
      "Epoch 20/75\n",
      "118/118 [==============================] - ETA: 0s - loss: 10.3519 - gender_loss: 0.2637 - age_loss: 9.7599 - gender_accuracy: 0.8928 - gender_mae: 0.1645 - age_accuracy: 0.0000e+00 - age_mae: 9.7599\n",
      "Epoch 00020: val_loss did not improve from 11.72794\n",
      "118/118 [==============================] - 197s 2s/step - loss: 10.3519 - gender_loss: 0.2637 - age_loss: 9.7599 - gender_accuracy: 0.8928 - gender_mae: 0.1645 - age_accuracy: 0.0000e+00 - age_mae: 9.7599 - val_loss: 15.0829 - val_gender_loss: 0.3196 - val_age_loss: 14.4310 - val_gender_accuracy: 0.8804 - val_gender_mae: 0.1913 - val_age_accuracy: 0.0000e+00 - val_age_mae: 14.4310\n",
      "Epoch 21/75\n",
      "118/118 [==============================] - ETA: 0s - loss: 10.1702 - gender_loss: 0.2618 - age_loss: 9.5697 - gender_accuracy: 0.8961 - gender_mae: 0.1641 - age_accuracy: 0.0000e+00 - age_mae: 9.5697\n",
      "Epoch 00021: val_loss did not improve from 11.72794\n",
      "118/118 [==============================] - 196s 2s/step - loss: 10.1702 - gender_loss: 0.2618 - age_loss: 9.5697 - gender_accuracy: 0.8961 - gender_mae: 0.1641 - age_accuracy: 0.0000e+00 - age_mae: 9.5697 - val_loss: 12.2315 - val_gender_loss: 0.3362 - val_age_loss: 11.5510 - val_gender_accuracy: 0.8760 - val_gender_mae: 0.1545 - val_age_accuracy: 0.0000e+00 - val_age_mae: 11.5510\n",
      "Epoch 22/75\n",
      "118/118 [==============================] - ETA: 0s - loss: 9.9873 - gender_loss: 0.2503 - age_loss: 9.3868 - gender_accuracy: 0.8987 - gender_mae: 0.1583 - age_accuracy: 0.0000e+00 - age_mae: 9.3868\n",
      "Epoch 00022: val_loss did not improve from 11.72794\n",
      "118/118 [==============================] - 197s 2s/step - loss: 9.9873 - gender_loss: 0.2503 - age_loss: 9.3868 - gender_accuracy: 0.8987 - gender_mae: 0.1583 - age_accuracy: 0.0000e+00 - age_mae: 9.3868 - val_loss: 13.4688 - val_gender_loss: 0.3153 - val_age_loss: 12.7988 - val_gender_accuracy: 0.8772 - val_gender_mae: 0.1798 - val_age_accuracy: 0.0000e+00 - val_age_mae: 12.7988\n",
      "Epoch 23/75\n",
      "118/118 [==============================] - ETA: 0s - loss: 9.9327 - gender_loss: 0.2337 - age_loss: 9.3407 - gender_accuracy: 0.9052 - gender_mae: 0.1481 - age_accuracy: 0.0000e+00 - age_mae: 9.3407\n",
      "Epoch 00023: val_loss did not improve from 11.72794\n",
      "118/118 [==============================] - 197s 2s/step - loss: 9.9327 - gender_loss: 0.2337 - age_loss: 9.3407 - gender_accuracy: 0.9052 - gender_mae: 0.1481 - age_accuracy: 0.0000e+00 - age_mae: 9.3407 - val_loss: 11.8526 - val_gender_loss: 0.3199 - val_age_loss: 11.1698 - val_gender_accuracy: 0.8760 - val_gender_mae: 0.1755 - val_age_accuracy: 0.0000e+00 - val_age_mae: 11.1698\n",
      "Epoch 24/75\n",
      "118/118 [==============================] - ETA: 0s - loss: 9.7663 - gender_loss: 0.2278 - age_loss: 9.1713 - gender_accuracy: 0.9076 - gender_mae: 0.1441 - age_accuracy: 0.0000e+00 - age_mae: 9.1713\n",
      "Epoch 00024: val_loss did not improve from 11.72794\n",
      "118/118 [==============================] - 196s 2s/step - loss: 9.7663 - gender_loss: 0.2278 - age_loss: 9.1713 - gender_accuracy: 0.9076 - gender_mae: 0.1441 - age_accuracy: 0.0000e+00 - age_mae: 9.1713 - val_loss: 12.2704 - val_gender_loss: 0.2980 - val_age_loss: 11.6015 - val_gender_accuracy: 0.8856 - val_gender_mae: 0.1816 - val_age_accuracy: 0.0000e+00 - val_age_mae: 11.6015\n",
      "Epoch 25/75\n",
      "118/118 [==============================] - ETA: 0s - loss: 9.4215 - gender_loss: 0.2277 - age_loss: 8.8189 - gender_accuracy: 0.9079 - gender_mae: 0.1445 - age_accuracy: 0.0000e+00 - age_mae: 8.8189\n",
      "Epoch 00025: val_loss did not improve from 11.72794\n",
      "118/118 [==============================] - 197s 2s/step - loss: 9.4215 - gender_loss: 0.2277 - age_loss: 8.8189 - gender_accuracy: 0.9079 - gender_mae: 0.1445 - age_accuracy: 0.0000e+00 - age_mae: 8.8189 - val_loss: 11.9458 - val_gender_loss: 0.3026 - val_age_loss: 11.2634 - val_gender_accuracy: 0.8804 - val_gender_mae: 0.1669 - val_age_accuracy: 0.0000e+00 - val_age_mae: 11.2634\n",
      "Epoch 26/75\n",
      "118/118 [==============================] - ETA: 0s - loss: 9.4489 - gender_loss: 0.2102 - age_loss: 8.8543 - gender_accuracy: 0.9096 - gender_mae: 0.1332 - age_accuracy: 0.0000e+00 - age_mae: 8.8543\n",
      "Epoch 00026: val_loss did not improve from 11.72794\n",
      "118/118 [==============================] - 196s 2s/step - loss: 9.4489 - gender_loss: 0.2102 - age_loss: 8.8543 - gender_accuracy: 0.9096 - gender_mae: 0.1332 - age_accuracy: 0.0000e+00 - age_mae: 8.8543 - val_loss: 12.4721 - val_gender_loss: 0.3223 - val_age_loss: 11.7609 - val_gender_accuracy: 0.8808 - val_gender_mae: 0.1707 - val_age_accuracy: 0.0000e+00 - val_age_mae: 11.7609\n"
     ]
    },
    {
     "name": "stdout",
     "output_type": "stream",
     "text": [
      "Epoch 27/75\n",
      "118/118 [==============================] - ETA: 0s - loss: 9.2051 - gender_loss: 0.2143 - age_loss: 8.5957 - gender_accuracy: 0.9085 - gender_mae: 0.1370 - age_accuracy: 0.0000e+00 - age_mae: 8.5957\n",
      "Epoch 00027: val_loss did not improve from 11.72794\n",
      "118/118 [==============================] - 198s 2s/step - loss: 9.2051 - gender_loss: 0.2143 - age_loss: 8.5957 - gender_accuracy: 0.9085 - gender_mae: 0.1370 - age_accuracy: 0.0000e+00 - age_mae: 8.5957 - val_loss: 12.2124 - val_gender_loss: 0.3106 - val_age_loss: 11.5032 - val_gender_accuracy: 0.8820 - val_gender_mae: 0.1871 - val_age_accuracy: 0.0000e+00 - val_age_mae: 11.5032\n",
      "Epoch 28/75\n",
      "118/118 [==============================] - ETA: 0s - loss: 9.2462 - gender_loss: 0.2123 - age_loss: 8.6320 - gender_accuracy: 0.9129 - gender_mae: 0.1332 - age_accuracy: 0.0000e+00 - age_mae: 8.6320\n",
      "Epoch 00028: val_loss did not improve from 11.72794\n",
      "118/118 [==============================] - 196s 2s/step - loss: 9.2462 - gender_loss: 0.2123 - age_loss: 8.6320 - gender_accuracy: 0.9129 - gender_mae: 0.1332 - age_accuracy: 0.0000e+00 - age_mae: 8.6320 - val_loss: 12.8384 - val_gender_loss: 0.3184 - val_age_loss: 12.1152 - val_gender_accuracy: 0.8772 - val_gender_mae: 0.1824 - val_age_accuracy: 0.0000e+00 - val_age_mae: 12.1152\n",
      "Epoch 29/75\n",
      "118/118 [==============================] - ETA: 0s - loss: 9.3345 - gender_loss: 0.1960 - age_loss: 8.7299 - gender_accuracy: 0.9175 - gender_mae: 0.1241 - age_accuracy: 0.0000e+00 - age_mae: 8.7299\n",
      "Epoch 00029: val_loss did not improve from 11.72794\n",
      "118/118 [==============================] - 196s 2s/step - loss: 9.3345 - gender_loss: 0.1960 - age_loss: 8.7299 - gender_accuracy: 0.9175 - gender_mae: 0.1241 - age_accuracy: 0.0000e+00 - age_mae: 8.7299 - val_loss: 12.4838 - val_gender_loss: 0.3143 - val_age_loss: 11.7528 - val_gender_accuracy: 0.8788 - val_gender_mae: 0.1721 - val_age_accuracy: 0.0000e+00 - val_age_mae: 11.7528\n",
      "Epoch 30/75\n",
      "118/118 [==============================] - ETA: 0s - loss: 9.0210 - gender_loss: 0.1877 - age_loss: 8.4133 - gender_accuracy: 0.9228 - gender_mae: 0.1204 - age_accuracy: 0.0000e+00 - age_mae: 8.4133\n",
      "Epoch 00030: val_loss improved from 11.72794 to 11.63336, saving model to 20thousand.h5\n",
      "118/118 [==============================] - 196s 2s/step - loss: 9.0210 - gender_loss: 0.1877 - age_loss: 8.4133 - gender_accuracy: 0.9228 - gender_mae: 0.1204 - age_accuracy: 0.0000e+00 - age_mae: 8.4133 - val_loss: 11.6334 - val_gender_loss: 0.3139 - val_age_loss: 10.8966 - val_gender_accuracy: 0.8844 - val_gender_mae: 0.1608 - val_age_accuracy: 0.0000e+00 - val_age_mae: 10.8966\n",
      "Epoch 31/75\n",
      "118/118 [==============================] - ETA: 0s - loss: 8.9634 - gender_loss: 0.1832 - age_loss: 8.3542 - gender_accuracy: 0.9196 - gender_mae: 0.1175 - age_accuracy: 0.0000e+00 - age_mae: 8.3542\n",
      "Epoch 00031: val_loss did not improve from 11.63336\n",
      "118/118 [==============================] - 199s 2s/step - loss: 8.9634 - gender_loss: 0.1832 - age_loss: 8.3542 - gender_accuracy: 0.9196 - gender_mae: 0.1175 - age_accuracy: 0.0000e+00 - age_mae: 8.3542 - val_loss: 13.7942 - val_gender_loss: 0.3279 - val_age_loss: 13.0372 - val_gender_accuracy: 0.8836 - val_gender_mae: 0.1656 - val_age_accuracy: 0.0000e+00 - val_age_mae: 13.0372\n",
      "Epoch 32/75\n",
      "118/118 [==============================] - ETA: 0s - loss: 9.0882 - gender_loss: 0.1781 - age_loss: 8.4777 - gender_accuracy: 0.9245 - gender_mae: 0.1106 - age_accuracy: 0.0000e+00 - age_mae: 8.4777\n",
      "Epoch 00032: val_loss did not improve from 11.63336\n",
      "118/118 [==============================] - 195s 2s/step - loss: 9.0882 - gender_loss: 0.1781 - age_loss: 8.4777 - gender_accuracy: 0.9245 - gender_mae: 0.1106 - age_accuracy: 0.0000e+00 - age_mae: 8.4777 - val_loss: 13.4191 - val_gender_loss: 0.3228 - val_age_loss: 12.6600 - val_gender_accuracy: 0.8876 - val_gender_mae: 0.2014 - val_age_accuracy: 0.0000e+00 - val_age_mae: 12.6600\n",
      "Epoch 33/75\n",
      "118/118 [==============================] - ETA: 0s - loss: 8.6992 - gender_loss: 0.1650 - age_loss: 8.0935 - gender_accuracy: 0.9275 - gender_mae: 0.1058 - age_accuracy: 0.0000e+00 - age_mae: 8.0935\n",
      "Epoch 00033: val_loss did not improve from 11.63336\n",
      "118/118 [==============================] - 196s 2s/step - loss: 8.6992 - gender_loss: 0.1650 - age_loss: 8.0935 - gender_accuracy: 0.9275 - gender_mae: 0.1058 - age_accuracy: 0.0000e+00 - age_mae: 8.0935 - val_loss: 12.3881 - val_gender_loss: 0.3105 - val_age_loss: 11.6334 - val_gender_accuracy: 0.8872 - val_gender_mae: 0.1547 - val_age_accuracy: 0.0000e+00 - val_age_mae: 11.6334\n",
      "Epoch 34/75\n",
      "118/118 [==============================] - ETA: 0s - loss: 8.8894 - gender_loss: 0.1694 - age_loss: 8.2735 - gender_accuracy: 0.9243 - gender_mae: 0.1075 - age_accuracy: 0.0000e+00 - age_mae: 8.2735\n",
      "Epoch 00034: val_loss did not improve from 11.63336\n",
      "118/118 [==============================] - 196s 2s/step - loss: 8.8894 - gender_loss: 0.1694 - age_loss: 8.2735 - gender_accuracy: 0.9243 - gender_mae: 0.1075 - age_accuracy: 0.0000e+00 - age_mae: 8.2735 - val_loss: 13.5479 - val_gender_loss: 0.3052 - val_age_loss: 12.7930 - val_gender_accuracy: 0.8868 - val_gender_mae: 0.1532 - val_age_accuracy: 0.0000e+00 - val_age_mae: 12.7930\n",
      "Epoch 35/75\n",
      "118/118 [==============================] - ETA: 0s - loss: 8.8380 - gender_loss: 0.1682 - age_loss: 8.2180 - gender_accuracy: 0.9289 - gender_mae: 0.1078 - age_accuracy: 0.0000e+00 - age_mae: 8.2180\n",
      "Epoch 00035: val_loss improved from 11.63336 to 11.35259, saving model to 20thousand.h5\n",
      "118/118 [==============================] - 195s 2s/step - loss: 8.8380 - gender_loss: 0.1682 - age_loss: 8.2180 - gender_accuracy: 0.9289 - gender_mae: 0.1078 - age_accuracy: 0.0000e+00 - age_mae: 8.2180 - val_loss: 11.3526 - val_gender_loss: 0.3272 - val_age_loss: 10.5721 - val_gender_accuracy: 0.8804 - val_gender_mae: 0.1582 - val_age_accuracy: 0.0000e+00 - val_age_mae: 10.5721\n",
      "Epoch 36/75\n",
      "118/118 [==============================] - ETA: 0s - loss: 8.4559 - gender_loss: 0.1611 - age_loss: 7.8389 - gender_accuracy: 0.9369 - gender_mae: 0.0993 - age_accuracy: 0.0000e+00 - age_mae: 7.8389\n",
      "Epoch 00036: val_loss did not improve from 11.35259\n",
      "118/118 [==============================] - 197s 2s/step - loss: 8.4559 - gender_loss: 0.1611 - age_loss: 7.8389 - gender_accuracy: 0.9369 - gender_mae: 0.0993 - age_accuracy: 0.0000e+00 - age_mae: 7.8389 - val_loss: 11.3819 - val_gender_loss: 0.3481 - val_age_loss: 10.5758 - val_gender_accuracy: 0.8888 - val_gender_mae: 0.1368 - val_age_accuracy: 0.0000e+00 - val_age_mae: 10.5758\n",
      "Epoch 37/75\n",
      "118/118 [==============================] - ETA: 0s - loss: 8.5211 - gender_loss: 0.1464 - age_loss: 7.9113 - gender_accuracy: 0.9355 - gender_mae: 0.0927 - age_accuracy: 0.0000e+00 - age_mae: 7.9113\n",
      "Epoch 00037: val_loss improved from 11.35259 to 10.85251, saving model to 20thousand.h5\n",
      "118/118 [==============================] - 196s 2s/step - loss: 8.5211 - gender_loss: 0.1464 - age_loss: 7.9113 - gender_accuracy: 0.9355 - gender_mae: 0.0927 - age_accuracy: 0.0000e+00 - age_mae: 7.9113 - val_loss: 10.8525 - val_gender_loss: 0.3651 - val_age_loss: 10.0208 - val_gender_accuracy: 0.8812 - val_gender_mae: 0.1420 - val_age_accuracy: 0.0000e+00 - val_age_mae: 10.0208\n",
      "Epoch 38/75\n",
      "118/118 [==============================] - ETA: 0s - loss: 8.5787 - gender_loss: 0.1572 - age_loss: 7.9525 - gender_accuracy: 0.9312 - gender_mae: 0.0995 - age_accuracy: 0.0000e+00 - age_mae: 7.9525\n",
      "Epoch 00038: val_loss did not improve from 10.85251\n",
      "118/118 [==============================] - 195s 2s/step - loss: 8.5787 - gender_loss: 0.1572 - age_loss: 7.9525 - gender_accuracy: 0.9312 - gender_mae: 0.0995 - age_accuracy: 0.0000e+00 - age_mae: 7.9525 - val_loss: 12.6461 - val_gender_loss: 0.3428 - val_age_loss: 11.8308 - val_gender_accuracy: 0.8904 - val_gender_mae: 0.1319 - val_age_accuracy: 0.0000e+00 - val_age_mae: 11.8308\n",
      "Epoch 39/75\n",
      "118/118 [==============================] - ETA: 0s - loss: 8.5398 - gender_loss: 0.1475 - age_loss: 7.9156 - gender_accuracy: 0.9348 - gender_mae: 0.0911 - age_accuracy: 0.0000e+00 - age_mae: 7.9156\n",
      "Epoch 00039: val_loss did not improve from 10.85251\n",
      "118/118 [==============================] - 196s 2s/step - loss: 8.5398 - gender_loss: 0.1475 - age_loss: 7.9156 - gender_accuracy: 0.9348 - gender_mae: 0.0911 - age_accuracy: 0.0000e+00 - age_mae: 7.9156 - val_loss: 12.8037 - val_gender_loss: 0.3344 - val_age_loss: 11.9885 - val_gender_accuracy: 0.8920 - val_gender_mae: 0.1422 - val_age_accuracy: 0.0000e+00 - val_age_mae: 11.9885\n"
     ]
    },
    {
     "name": "stdout",
     "output_type": "stream",
     "text": [
      "Epoch 40/75\n",
      "118/118 [==============================] - ETA: 0s - loss: 8.4439 - gender_loss: 0.1437 - age_loss: 7.8161 - gender_accuracy: 0.9363 - gender_mae: 0.0916 - age_accuracy: 0.0000e+00 - age_mae: 7.8161\n",
      "Epoch 00040: val_loss did not improve from 10.85251\n",
      "118/118 [==============================] - 195s 2s/step - loss: 8.4439 - gender_loss: 0.1437 - age_loss: 7.8161 - gender_accuracy: 0.9363 - gender_mae: 0.0916 - age_accuracy: 0.0000e+00 - age_mae: 7.8161 - val_loss: 11.2806 - val_gender_loss: 0.3256 - val_age_loss: 10.4681 - val_gender_accuracy: 0.8904 - val_gender_mae: 0.1432 - val_age_accuracy: 0.0000e+00 - val_age_mae: 10.4681\n",
      "Epoch 41/75\n",
      "118/118 [==============================] - ETA: 0s - loss: 8.3563 - gender_loss: 0.1379 - age_loss: 7.7273 - gender_accuracy: 0.9392 - gender_mae: 0.0858 - age_accuracy: 0.0000e+00 - age_mae: 7.7273\n",
      "Epoch 00041: val_loss did not improve from 10.85251\n",
      "118/118 [==============================] - 196s 2s/step - loss: 8.3563 - gender_loss: 0.1379 - age_loss: 7.7273 - gender_accuracy: 0.9392 - gender_mae: 0.0858 - age_accuracy: 0.0000e+00 - age_mae: 7.7273 - val_loss: 10.9538 - val_gender_loss: 0.3478 - val_age_loss: 10.1123 - val_gender_accuracy: 0.8936 - val_gender_mae: 0.1339 - val_age_accuracy: 0.0000e+00 - val_age_mae: 10.1123\n",
      "Epoch 42/75\n",
      "118/118 [==============================] - ETA: 0s - loss: 8.2812 - gender_loss: 0.1404 - age_loss: 7.6463 - gender_accuracy: 0.9367 - gender_mae: 0.0880 - age_accuracy: 0.0000e+00 - age_mae: 7.6463\n",
      "Epoch 00042: val_loss did not improve from 10.85251\n",
      "118/118 [==============================] - 195s 2s/step - loss: 8.2812 - gender_loss: 0.1404 - age_loss: 7.6463 - gender_accuracy: 0.9367 - gender_mae: 0.0880 - age_accuracy: 0.0000e+00 - age_mae: 7.6463 - val_loss: 13.1080 - val_gender_loss: 0.3208 - val_age_loss: 12.2928 - val_gender_accuracy: 0.8924 - val_gender_mae: 0.1436 - val_age_accuracy: 0.0000e+00 - val_age_mae: 12.2928\n",
      "Epoch 43/75\n",
      "118/118 [==============================] - ETA: 0s - loss: 8.1958 - gender_loss: 0.1293 - age_loss: 7.5713 - gender_accuracy: 0.9432 - gender_mae: 0.0809 - age_accuracy: 0.0000e+00 - age_mae: 7.5713\n",
      "Epoch 00043: val_loss did not improve from 10.85251\n",
      "118/118 [==============================] - 195s 2s/step - loss: 8.1958 - gender_loss: 0.1293 - age_loss: 7.5713 - gender_accuracy: 0.9432 - gender_mae: 0.0809 - age_accuracy: 0.0000e+00 - age_mae: 7.5713 - val_loss: 12.1269 - val_gender_loss: 0.3667 - val_age_loss: 11.2648 - val_gender_accuracy: 0.8848 - val_gender_mae: 0.1368 - val_age_accuracy: 0.0000e+00 - val_age_mae: 11.2648\n",
      "Epoch 44/75\n",
      "118/118 [==============================] - ETA: 0s - loss: 8.1732 - gender_loss: 0.1288 - age_loss: 7.5478 - gender_accuracy: 0.9417 - gender_mae: 0.0804 - age_accuracy: 0.0000e+00 - age_mae: 7.5478\n",
      "Epoch 00044: val_loss did not improve from 10.85251\n",
      "118/118 [==============================] - 196s 2s/step - loss: 8.1732 - gender_loss: 0.1288 - age_loss: 7.5478 - gender_accuracy: 0.9417 - gender_mae: 0.0804 - age_accuracy: 0.0000e+00 - age_mae: 7.5478 - val_loss: 11.6045 - val_gender_loss: 0.3794 - val_age_loss: 10.7267 - val_gender_accuracy: 0.8880 - val_gender_mae: 0.1307 - val_age_accuracy: 0.0000e+00 - val_age_mae: 10.7267\n",
      "Epoch 45/75\n",
      "118/118 [==============================] - ETA: 0s - loss: 8.0999 - gender_loss: 0.1303 - age_loss: 7.4687 - gender_accuracy: 0.9379 - gender_mae: 0.0829 - age_accuracy: 0.0000e+00 - age_mae: 7.4687\n",
      "Epoch 00045: val_loss did not improve from 10.85251\n",
      "118/118 [==============================] - 199s 2s/step - loss: 8.0999 - gender_loss: 0.1303 - age_loss: 7.4687 - gender_accuracy: 0.9379 - gender_mae: 0.0829 - age_accuracy: 0.0000e+00 - age_mae: 7.4687 - val_loss: 11.6719 - val_gender_loss: 0.3540 - val_age_loss: 10.8156 - val_gender_accuracy: 0.8884 - val_gender_mae: 0.1326 - val_age_accuracy: 0.0000e+00 - val_age_mae: 10.8156\n",
      "Epoch 46/75\n",
      "118/118 [==============================] - ETA: 0s - loss: 8.4170 - gender_loss: 0.1315 - age_loss: 7.7800 - gender_accuracy: 0.9411 - gender_mae: 0.0821 - age_accuracy: 0.0000e+00 - age_mae: 7.7800\n",
      "Epoch 00046: val_loss did not improve from 10.85251\n",
      "118/118 [==============================] - 195s 2s/step - loss: 8.4170 - gender_loss: 0.1315 - age_loss: 7.7800 - gender_accuracy: 0.9411 - gender_mae: 0.0821 - age_accuracy: 0.0000e+00 - age_mae: 7.7800 - val_loss: 11.6811 - val_gender_loss: 0.3385 - val_age_loss: 10.8335 - val_gender_accuracy: 0.8848 - val_gender_mae: 0.1444 - val_age_accuracy: 0.0000e+00 - val_age_mae: 10.8335\n",
      "Epoch 47/75\n",
      "118/118 [==============================] - ETA: 0s - loss: 8.1572 - gender_loss: 0.1230 - age_loss: 7.5236 - gender_accuracy: 0.9455 - gender_mae: 0.0778 - age_accuracy: 0.0000e+00 - age_mae: 7.5236\n",
      "Epoch 00047: val_loss did not improve from 10.85251\n",
      "118/118 [==============================] - 196s 2s/step - loss: 8.1572 - gender_loss: 0.1230 - age_loss: 7.5236 - gender_accuracy: 0.9455 - gender_mae: 0.0778 - age_accuracy: 0.0000e+00 - age_mae: 7.5236 - val_loss: 12.0902 - val_gender_loss: 0.3196 - val_age_loss: 11.2574 - val_gender_accuracy: 0.8880 - val_gender_mae: 0.1534 - val_age_accuracy: 0.0000e+00 - val_age_mae: 11.2574\n",
      "Epoch 48/75\n",
      "118/118 [==============================] - ETA: 0s - loss: 8.0122 - gender_loss: 0.1211 - age_loss: 7.3754 - gender_accuracy: 0.9433 - gender_mae: 0.0774 - age_accuracy: 0.0000e+00 - age_mae: 7.3754\n",
      "Epoch 00048: val_loss did not improve from 10.85251\n",
      "118/118 [==============================] - 196s 2s/step - loss: 8.0122 - gender_loss: 0.1211 - age_loss: 7.3754 - gender_accuracy: 0.9433 - gender_mae: 0.0774 - age_accuracy: 0.0000e+00 - age_mae: 7.3754 - val_loss: 12.2593 - val_gender_loss: 0.3425 - val_age_loss: 11.3988 - val_gender_accuracy: 0.8844 - val_gender_mae: 0.1546 - val_age_accuracy: 0.0000e+00 - val_age_mae: 11.3988\n",
      "Epoch 49/75\n",
      "118/118 [==============================] - ETA: 0s - loss: 8.0226 - gender_loss: 0.1305 - age_loss: 7.3712 - gender_accuracy: 0.9424 - gender_mae: 0.0816 - age_accuracy: 0.0000e+00 - age_mae: 7.3712\n",
      "Epoch 00049: val_loss did not improve from 10.85251\n",
      "118/118 [==============================] - 198s 2s/step - loss: 8.0226 - gender_loss: 0.1305 - age_loss: 7.3712 - gender_accuracy: 0.9424 - gender_mae: 0.0816 - age_accuracy: 0.0000e+00 - age_mae: 7.3712 - val_loss: 10.8894 - val_gender_loss: 0.3566 - val_age_loss: 10.0102 - val_gender_accuracy: 0.8916 - val_gender_mae: 0.1351 - val_age_accuracy: 0.0000e+00 - val_age_mae: 10.0102\n",
      "Epoch 50/75\n",
      "118/118 [==============================] - ETA: 0s - loss: 7.9455 - gender_loss: 0.1124 - age_loss: 7.3085 - gender_accuracy: 0.9484 - gender_mae: 0.0711 - age_accuracy: 0.0000e+00 - age_mae: 7.3085\n",
      "Epoch 00050: val_loss did not improve from 10.85251\n",
      "118/118 [==============================] - 198s 2s/step - loss: 7.9455 - gender_loss: 0.1124 - age_loss: 7.3085 - gender_accuracy: 0.9484 - gender_mae: 0.0711 - age_accuracy: 0.0000e+00 - age_mae: 7.3085 - val_loss: 11.9316 - val_gender_loss: 0.3656 - val_age_loss: 11.0408 - val_gender_accuracy: 0.8900 - val_gender_mae: 0.1330 - val_age_accuracy: 0.0000e+00 - val_age_mae: 11.0408\n",
      "Epoch 51/75\n",
      "118/118 [==============================] - ETA: 0s - loss: 7.9040 - gender_loss: 0.1122 - age_loss: 7.2658 - gender_accuracy: 0.9461 - gender_mae: 0.0696 - age_accuracy: 0.0000e+00 - age_mae: 7.2658\n",
      "Epoch 00051: val_loss did not improve from 10.85251\n",
      "118/118 [==============================] - 196s 2s/step - loss: 7.9040 - gender_loss: 0.1122 - age_loss: 7.2658 - gender_accuracy: 0.9461 - gender_mae: 0.0696 - age_accuracy: 0.0000e+00 - age_mae: 7.2658 - val_loss: 11.0320 - val_gender_loss: 0.3377 - val_age_loss: 10.1678 - val_gender_accuracy: 0.8916 - val_gender_mae: 0.1354 - val_age_accuracy: 0.0000e+00 - val_age_mae: 10.1678\n",
      "Epoch 52/75\n",
      "118/118 [==============================] - ETA: 0s - loss: 7.8988 - gender_loss: 0.1134 - age_loss: 7.2563 - gender_accuracy: 0.9459 - gender_mae: 0.0706 - age_accuracy: 0.0000e+00 - age_mae: 7.2563\n",
      "Epoch 00052: val_loss did not improve from 10.85251\n",
      "118/118 [==============================] - 196s 2s/step - loss: 7.8988 - gender_loss: 0.1134 - age_loss: 7.2563 - gender_accuracy: 0.9459 - gender_mae: 0.0706 - age_accuracy: 0.0000e+00 - age_mae: 7.2563 - val_loss: 11.2393 - val_gender_loss: 0.3515 - val_age_loss: 10.3562 - val_gender_accuracy: 0.8924 - val_gender_mae: 0.1292 - val_age_accuracy: 0.0000e+00 - val_age_mae: 10.3562\n"
     ]
    },
    {
     "name": "stdout",
     "output_type": "stream",
     "text": [
      "Epoch 53/75\n",
      "118/118 [==============================] - ETA: 0s - loss: 7.8914 - gender_loss: 0.1122 - age_loss: 7.2408 - gender_accuracy: 0.9453 - gender_mae: 0.0712 - age_accuracy: 0.0000e+00 - age_mae: 7.2408\n",
      "Epoch 00053: val_loss did not improve from 10.85251\n",
      "118/118 [==============================] - 196s 2s/step - loss: 7.8914 - gender_loss: 0.1122 - age_loss: 7.2408 - gender_accuracy: 0.9453 - gender_mae: 0.0712 - age_accuracy: 0.0000e+00 - age_mae: 7.2408 - val_loss: 11.6517 - val_gender_loss: 0.3509 - val_age_loss: 10.7563 - val_gender_accuracy: 0.8864 - val_gender_mae: 0.1439 - val_age_accuracy: 0.0000e+00 - val_age_mae: 10.7563\n",
      "Epoch 54/75\n",
      "118/118 [==============================] - ETA: 0s - loss: 7.9938 - gender_loss: 0.1187 - age_loss: 7.3297 - gender_accuracy: 0.9445 - gender_mae: 0.0735 - age_accuracy: 0.0000e+00 - age_mae: 7.3297\n",
      "Epoch 00054: val_loss did not improve from 10.85251\n",
      "118/118 [==============================] - 195s 2s/step - loss: 7.9938 - gender_loss: 0.1187 - age_loss: 7.3297 - gender_accuracy: 0.9445 - gender_mae: 0.0735 - age_accuracy: 0.0000e+00 - age_mae: 7.3297 - val_loss: 11.9134 - val_gender_loss: 0.3613 - val_age_loss: 11.0054 - val_gender_accuracy: 0.8880 - val_gender_mae: 0.1312 - val_age_accuracy: 0.0000e+00 - val_age_mae: 11.0054\n",
      "Epoch 55/75\n",
      "118/118 [==============================] - ETA: 0s - loss: 7.7873 - gender_loss: 0.1023 - age_loss: 7.1371 - gender_accuracy: 0.9495 - gender_mae: 0.0648 - age_accuracy: 0.0000e+00 - age_mae: 7.1371\n",
      "Epoch 00055: val_loss did not improve from 10.85251\n",
      "118/118 [==============================] - 196s 2s/step - loss: 7.7873 - gender_loss: 0.1023 - age_loss: 7.1371 - gender_accuracy: 0.9495 - gender_mae: 0.0648 - age_accuracy: 0.0000e+00 - age_mae: 7.1371 - val_loss: 11.2463 - val_gender_loss: 0.4111 - val_age_loss: 10.2871 - val_gender_accuracy: 0.8896 - val_gender_mae: 0.1254 - val_age_accuracy: 0.0000e+00 - val_age_mae: 10.2871\n",
      "Epoch 56/75\n",
      "118/118 [==============================] - ETA: 0s - loss: 7.8193 - gender_loss: 0.1137 - age_loss: 7.1544 - gender_accuracy: 0.9455 - gender_mae: 0.0702 - age_accuracy: 0.0000e+00 - age_mae: 7.1544\n",
      "Epoch 00056: val_loss did not improve from 10.85251\n",
      "118/118 [==============================] - 196s 2s/step - loss: 7.8193 - gender_loss: 0.1137 - age_loss: 7.1544 - gender_accuracy: 0.9455 - gender_mae: 0.0702 - age_accuracy: 0.0000e+00 - age_mae: 7.1544 - val_loss: 12.0513 - val_gender_loss: 0.3563 - val_age_loss: 11.1403 - val_gender_accuracy: 0.8924 - val_gender_mae: 0.1302 - val_age_accuracy: 0.0000e+00 - val_age_mae: 11.1403\n",
      "Epoch 57/75\n",
      "118/118 [==============================] - ETA: 0s - loss: 7.7076 - gender_loss: 0.0978 - age_loss: 7.0545 - gender_accuracy: 0.9523 - gender_mae: 0.0602 - age_accuracy: 0.0000e+00 - age_mae: 7.0545\n",
      "Epoch 00057: val_loss did not improve from 10.85251\n",
      "118/118 [==============================] - 195s 2s/step - loss: 7.7076 - gender_loss: 0.0978 - age_loss: 7.0545 - gender_accuracy: 0.9523 - gender_mae: 0.0602 - age_accuracy: 0.0000e+00 - age_mae: 7.0545 - val_loss: 11.5858 - val_gender_loss: 0.3871 - val_age_loss: 10.6428 - val_gender_accuracy: 0.8848 - val_gender_mae: 0.1442 - val_age_accuracy: 0.0000e+00 - val_age_mae: 10.6428\n",
      "Epoch 58/75\n",
      "118/118 [==============================] - ETA: 0s - loss: 7.7534 - gender_loss: 0.1094 - age_loss: 7.0867 - gender_accuracy: 0.9485 - gender_mae: 0.0673 - age_accuracy: 0.0000e+00 - age_mae: 7.0867\n",
      "Epoch 00058: val_loss did not improve from 10.85251\n",
      "118/118 [==============================] - 195s 2s/step - loss: 7.7534 - gender_loss: 0.1094 - age_loss: 7.0867 - gender_accuracy: 0.9485 - gender_mae: 0.0673 - age_accuracy: 0.0000e+00 - age_mae: 7.0867 - val_loss: 13.2868 - val_gender_loss: 0.3333 - val_age_loss: 12.3944 - val_gender_accuracy: 0.8824 - val_gender_mae: 0.1662 - val_age_accuracy: 0.0000e+00 - val_age_mae: 12.3944\n",
      "Epoch 59/75\n",
      "118/118 [==============================] - ETA: 0s - loss: 7.6717 - gender_loss: 0.1065 - age_loss: 7.0064 - gender_accuracy: 0.9473 - gender_mae: 0.0672 - age_accuracy: 0.0000e+00 - age_mae: 7.0064\n",
      "Epoch 00059: val_loss did not improve from 10.85251\n",
      "118/118 [==============================] - 196s 2s/step - loss: 7.6717 - gender_loss: 0.1065 - age_loss: 7.0064 - gender_accuracy: 0.9473 - gender_mae: 0.0672 - age_accuracy: 0.0000e+00 - age_mae: 7.0064 - val_loss: 11.6383 - val_gender_loss: 0.4070 - val_age_loss: 10.6731 - val_gender_accuracy: 0.8916 - val_gender_mae: 0.1248 - val_age_accuracy: 0.0000e+00 - val_age_mae: 10.6731\n",
      "Epoch 60/75\n",
      "118/118 [==============================] - ETA: 0s - loss: 7.6239 - gender_loss: 0.1033 - age_loss: 6.9610 - gender_accuracy: 0.9500 - gender_mae: 0.0645 - age_accuracy: 0.0000e+00 - age_mae: 6.9610\n",
      "Epoch 00060: val_loss did not improve from 10.85251\n",
      "118/118 [==============================] - 194s 2s/step - loss: 7.6239 - gender_loss: 0.1033 - age_loss: 6.9610 - gender_accuracy: 0.9500 - gender_mae: 0.0645 - age_accuracy: 0.0000e+00 - age_mae: 6.9610 - val_loss: 13.1924 - val_gender_loss: 0.3955 - val_age_loss: 12.2366 - val_gender_accuracy: 0.8804 - val_gender_mae: 0.1464 - val_age_accuracy: 0.0000e+00 - val_age_mae: 12.2366\n",
      "Epoch 61/75\n",
      "118/118 [==============================] - ETA: 0s - loss: 7.7120 - gender_loss: 0.1083 - age_loss: 7.0409 - gender_accuracy: 0.9501 - gender_mae: 0.0682 - age_accuracy: 0.0000e+00 - age_mae: 7.0409\n",
      "Epoch 00061: val_loss did not improve from 10.85251\n",
      "118/118 [==============================] - 195s 2s/step - loss: 7.7120 - gender_loss: 0.1083 - age_loss: 7.0409 - gender_accuracy: 0.9501 - gender_mae: 0.0682 - age_accuracy: 0.0000e+00 - age_mae: 7.0409 - val_loss: 11.9288 - val_gender_loss: 0.4922 - val_age_loss: 10.8725 - val_gender_accuracy: 0.8856 - val_gender_mae: 0.1230 - val_age_accuracy: 0.0000e+00 - val_age_mae: 10.8725\n",
      "Epoch 62/75\n",
      "118/118 [==============================] - ETA: 0s - loss: 7.6391 - gender_loss: 0.1021 - age_loss: 6.9719 - gender_accuracy: 0.9519 - gender_mae: 0.0615 - age_accuracy: 0.0000e+00 - age_mae: 6.9719\n",
      "Epoch 00062: val_loss did not improve from 10.85251\n",
      "118/118 [==============================] - 196s 2s/step - loss: 7.6391 - gender_loss: 0.1021 - age_loss: 6.9719 - gender_accuracy: 0.9519 - gender_mae: 0.0615 - age_accuracy: 0.0000e+00 - age_mae: 6.9719 - val_loss: 12.1914 - val_gender_loss: 0.3742 - val_age_loss: 11.2503 - val_gender_accuracy: 0.8852 - val_gender_mae: 0.1341 - val_age_accuracy: 0.0000e+00 - val_age_mae: 11.2503\n",
      "Epoch 63/75\n",
      "118/118 [==============================] - ETA: 0s - loss: 7.6382 - gender_loss: 0.1001 - age_loss: 6.9658 - gender_accuracy: 0.9513 - gender_mae: 0.0626 - age_accuracy: 0.0000e+00 - age_mae: 6.9658\n",
      "Epoch 00063: val_loss did not improve from 10.85251\n",
      "118/118 [==============================] - 197s 2s/step - loss: 7.6382 - gender_loss: 0.1001 - age_loss: 6.9658 - gender_accuracy: 0.9513 - gender_mae: 0.0626 - age_accuracy: 0.0000e+00 - age_mae: 6.9658 - val_loss: 13.2450 - val_gender_loss: 0.3827 - val_age_loss: 12.2862 - val_gender_accuracy: 0.8760 - val_gender_mae: 0.1530 - val_age_accuracy: 0.0000e+00 - val_age_mae: 12.2862\n",
      "Epoch 64/75\n",
      "118/118 [==============================] - ETA: 0s - loss: 7.5763 - gender_loss: 0.1056 - age_loss: 6.8927 - gender_accuracy: 0.9524 - gender_mae: 0.0648 - age_accuracy: 0.0000e+00 - age_mae: 6.8927\n",
      "Epoch 00064: val_loss did not improve from 10.85251\n",
      "118/118 [==============================] - 197s 2s/step - loss: 7.5763 - gender_loss: 0.1056 - age_loss: 6.8927 - gender_accuracy: 0.9524 - gender_mae: 0.0648 - age_accuracy: 0.0000e+00 - age_mae: 6.8927 - val_loss: 11.2479 - val_gender_loss: 0.3888 - val_age_loss: 10.2798 - val_gender_accuracy: 0.8964 - val_gender_mae: 0.1253 - val_age_accuracy: 0.0000e+00 - val_age_mae: 10.2798\n",
      "Epoch 65/75\n",
      "118/118 [==============================] - ETA: 0s - loss: 7.6237 - gender_loss: 0.0968 - age_loss: 6.9468 - gender_accuracy: 0.9524 - gender_mae: 0.0615 - age_accuracy: 0.0000e+00 - age_mae: 6.9468\n",
      "Epoch 00065: val_loss did not improve from 10.85251\n",
      "118/118 [==============================] - 204s 2s/step - loss: 7.6237 - gender_loss: 0.0968 - age_loss: 6.9468 - gender_accuracy: 0.9524 - gender_mae: 0.0615 - age_accuracy: 0.0000e+00 - age_mae: 6.9468 - val_loss: 11.4256 - val_gender_loss: 0.4604 - val_age_loss: 10.3857 - val_gender_accuracy: 0.8820 - val_gender_mae: 0.1260 - val_age_accuracy: 0.0000e+00 - val_age_mae: 10.3857\n"
     ]
    },
    {
     "name": "stdout",
     "output_type": "stream",
     "text": [
      "Epoch 66/75\n",
      "118/118 [==============================] - ETA: 0s - loss: 7.5675 - gender_loss: 0.0885 - age_loss: 6.8992 - gender_accuracy: 0.9553 - gender_mae: 0.0562 - age_accuracy: 0.0000e+00 - age_mae: 6.8992\n",
      "Epoch 00066: val_loss did not improve from 10.85251\n",
      "118/118 [==============================] - 211s 2s/step - loss: 7.5675 - gender_loss: 0.0885 - age_loss: 6.8992 - gender_accuracy: 0.9553 - gender_mae: 0.0562 - age_accuracy: 0.0000e+00 - age_mae: 6.8992 - val_loss: 11.4612 - val_gender_loss: 0.4492 - val_age_loss: 10.4326 - val_gender_accuracy: 0.8960 - val_gender_mae: 0.1151 - val_age_accuracy: 0.0000e+00 - val_age_mae: 10.4326\n",
      "Epoch 67/75\n",
      "118/118 [==============================] - ETA: 0s - loss: 7.6817 - gender_loss: 0.0897 - age_loss: 7.0104 - gender_accuracy: 0.9536 - gender_mae: 0.0554 - age_accuracy: 0.0000e+00 - age_mae: 7.0104\n",
      "Epoch 00067: val_loss did not improve from 10.85251\n",
      "118/118 [==============================] - 207s 2s/step - loss: 7.6817 - gender_loss: 0.0897 - age_loss: 7.0104 - gender_accuracy: 0.9536 - gender_mae: 0.0554 - age_accuracy: 0.0000e+00 - age_mae: 7.0104 - val_loss: 11.1594 - val_gender_loss: 0.4187 - val_age_loss: 10.1569 - val_gender_accuracy: 0.8944 - val_gender_mae: 0.1197 - val_age_accuracy: 0.0000e+00 - val_age_mae: 10.1569\n",
      "Epoch 68/75\n",
      "118/118 [==============================] - ETA: 0s - loss: 7.3679 - gender_loss: 0.0936 - age_loss: 6.6879 - gender_accuracy: 0.9531 - gender_mae: 0.0586 - age_accuracy: 0.0000e+00 - age_mae: 6.6879\n",
      "Epoch 00068: val_loss did not improve from 10.85251\n",
      "118/118 [==============================] - 207s 2s/step - loss: 7.3679 - gender_loss: 0.0936 - age_loss: 6.6879 - gender_accuracy: 0.9531 - gender_mae: 0.0586 - age_accuracy: 0.0000e+00 - age_mae: 6.6879 - val_loss: 12.2257 - val_gender_loss: 0.4708 - val_age_loss: 11.1669 - val_gender_accuracy: 0.8848 - val_gender_mae: 0.1294 - val_age_accuracy: 0.0000e+00 - val_age_mae: 11.1669\n",
      "Epoch 69/75\n",
      "118/118 [==============================] - ETA: 0s - loss: 7.4648 - gender_loss: 0.0935 - age_loss: 6.7821 - gender_accuracy: 0.9535 - gender_mae: 0.0579 - age_accuracy: 0.0000e+00 - age_mae: 6.7821\n",
      "Epoch 00069: val_loss did not improve from 10.85251\n",
      "118/118 [==============================] - 199s 2s/step - loss: 7.4648 - gender_loss: 0.0935 - age_loss: 6.7821 - gender_accuracy: 0.9535 - gender_mae: 0.0579 - age_accuracy: 0.0000e+00 - age_mae: 6.7821 - val_loss: 11.5004 - val_gender_loss: 0.4708 - val_age_loss: 10.4398 - val_gender_accuracy: 0.8800 - val_gender_mae: 0.1302 - val_age_accuracy: 0.0000e+00 - val_age_mae: 10.4398\n",
      "Epoch 70/75\n",
      "118/118 [==============================] - ETA: 0s - loss: 7.5860 - gender_loss: 0.0906 - age_loss: 6.9043 - gender_accuracy: 0.9553 - gender_mae: 0.0560 - age_accuracy: 0.0000e+00 - age_mae: 6.9043\n",
      "Epoch 00070: val_loss did not improve from 10.85251\n",
      "118/118 [==============================] - 200s 2s/step - loss: 7.5860 - gender_loss: 0.0906 - age_loss: 6.9043 - gender_accuracy: 0.9553 - gender_mae: 0.0560 - age_accuracy: 0.0000e+00 - age_mae: 6.9043 - val_loss: 11.6282 - val_gender_loss: 0.5193 - val_age_loss: 10.5167 - val_gender_accuracy: 0.8876 - val_gender_mae: 0.1234 - val_age_accuracy: 0.0000e+00 - val_age_mae: 10.5167\n",
      "Epoch 71/75\n",
      "118/118 [==============================] - ETA: 0s - loss: 7.4328 - gender_loss: 0.0982 - age_loss: 6.7411 - gender_accuracy: 0.9512 - gender_mae: 0.0613 - age_accuracy: 0.0000e+00 - age_mae: 6.7411\n",
      "Epoch 00071: val_loss did not improve from 10.85251\n",
      "118/118 [==============================] - 204s 2s/step - loss: 7.4328 - gender_loss: 0.0982 - age_loss: 6.7411 - gender_accuracy: 0.9512 - gender_mae: 0.0613 - age_accuracy: 0.0000e+00 - age_mae: 6.7411 - val_loss: 11.4071 - val_gender_loss: 0.4625 - val_age_loss: 10.3503 - val_gender_accuracy: 0.8856 - val_gender_mae: 0.1267 - val_age_accuracy: 0.0000e+00 - val_age_mae: 10.3503\n",
      "Epoch 72/75\n",
      "118/118 [==============================] - ETA: 0s - loss: 7.3990 - gender_loss: 0.0940 - age_loss: 6.7101 - gender_accuracy: 0.9539 - gender_mae: 0.0590 - age_accuracy: 0.0000e+00 - age_mae: 6.7101\n",
      "Epoch 00072: val_loss did not improve from 10.85251\n",
      "118/118 [==============================] - 202s 2s/step - loss: 7.3990 - gender_loss: 0.0940 - age_loss: 6.7101 - gender_accuracy: 0.9539 - gender_mae: 0.0590 - age_accuracy: 0.0000e+00 - age_mae: 6.7101 - val_loss: 12.6803 - val_gender_loss: 0.4736 - val_age_loss: 11.6118 - val_gender_accuracy: 0.8876 - val_gender_mae: 0.1278 - val_age_accuracy: 0.0000e+00 - val_age_mae: 11.6118\n",
      "Epoch 73/75\n",
      "118/118 [==============================] - ETA: 0s - loss: 7.3669 - gender_loss: 0.0967 - age_loss: 6.6739 - gender_accuracy: 0.9539 - gender_mae: 0.0577 - age_accuracy: 0.0000e+00 - age_mae: 6.6739\n",
      "Epoch 00073: val_loss did not improve from 10.85251\n",
      "118/118 [==============================] - 206s 2s/step - loss: 7.3669 - gender_loss: 0.0967 - age_loss: 6.6739 - gender_accuracy: 0.9539 - gender_mae: 0.0577 - age_accuracy: 0.0000e+00 - age_mae: 6.6739 - val_loss: 12.0652 - val_gender_loss: 0.3991 - val_age_loss: 11.0686 - val_gender_accuracy: 0.8912 - val_gender_mae: 0.1213 - val_age_accuracy: 0.0000e+00 - val_age_mae: 11.0686\n",
      "Epoch 74/75\n",
      "118/118 [==============================] - ETA: 0s - loss: 7.5368 - gender_loss: 0.0838 - age_loss: 6.8560 - gender_accuracy: 0.9560 - gender_mae: 0.0525 - age_accuracy: 0.0000e+00 - age_mae: 6.8560\n",
      "Epoch 00074: val_loss did not improve from 10.85251\n",
      "118/118 [==============================] - 202s 2s/step - loss: 7.5368 - gender_loss: 0.0838 - age_loss: 6.8560 - gender_accuracy: 0.9560 - gender_mae: 0.0525 - age_accuracy: 0.0000e+00 - age_mae: 6.8560 - val_loss: 11.2650 - val_gender_loss: 0.5002 - val_age_loss: 10.1665 - val_gender_accuracy: 0.8864 - val_gender_mae: 0.1208 - val_age_accuracy: 0.0000e+00 - val_age_mae: 10.1665\n",
      "Epoch 75/75\n",
      "118/118 [==============================] - ETA: 0s - loss: 7.3568 - gender_loss: 0.0877 - age_loss: 6.6689 - gender_accuracy: 0.9560 - gender_mae: 0.0540 - age_accuracy: 0.0000e+00 - age_mae: 6.6689\n",
      "Epoch 00075: val_loss did not improve from 10.85251\n",
      "118/118 [==============================] - 205s 2s/step - loss: 7.3568 - gender_loss: 0.0877 - age_loss: 6.6689 - gender_accuracy: 0.9560 - gender_mae: 0.0540 - age_accuracy: 0.0000e+00 - age_mae: 6.6689 - val_loss: 10.9653 - val_gender_loss: 0.4536 - val_age_loss: 9.9105 - val_gender_accuracy: 0.8900 - val_gender_mae: 0.1182 - val_age_accuracy: 0.0000e+00 - val_age_mae: 9.9105\n"
     ]
    }
   ],
   "source": [
    "#Train\n",
    "from keras.callbacks import ModelCheckpoint, EarlyStopping\n",
    "fle_s = 'Gender_age_detection.h5'\n",
    "checkpointer = ModelCheckpoint(fle_s, monitor='val_loss',verbose=1,save_best_only=True,save_weights_only=False, mode='auto',save_freq='epoch')\n",
    "Early_stop = EarlyStopping(patience=75, monitor='val_loss',restore_best_weights=True),\n",
    "callback_list = [checkpointer,Early_stop]\n",
    "Historys = Model.fit(X_train,Y_train,batch_size=64,validation_data=(X_test,Y_test),epochs=75,callbacks=[callback_list])"
   ]
  },
  {
   "cell_type": "code",
   "execution_count": 83,
   "metadata": {},
   "outputs": [],
   "source": [
    "#Load pretrained above model\n",
    "Model = load_model('Gender_age_detection.h5')"
   ]
  },
  {
   "cell_type": "code",
   "execution_count": 151,
   "metadata": {},
   "outputs": [],
   "source": [
    "def test_image(ind,images,Model):\n",
    "    plt.imshow(images[ind], cmap=\"gray\", vmin=0, vmax=255)\n",
    "    plt.show()\n",
    "    image_test=images[ind]\n",
    "    pred_1=Model.predict(np.array([image_test]))\n",
    "    gender_f=['Female','Male']\n",
    "    age=int(np.round(pred_1[1][0]))\n",
    "    gender=int(np.round(pred_1[0][0]))\n",
    "    print(\"Predicted Age: \"+ str(age))\n",
    "    print(\"Predicted Gender: \"+ gender_f[gender])\n",
    "    print(\"Actual age: \" + str(wiki_df['age'][ind]))"
   ]
  },
  {
   "cell_type": "code",
   "execution_count": 154,
   "metadata": {},
   "outputs": [
    {
     "data": {
      "image/png": "[encoded data removed]",
      "text/plain": [
       "<Figure size 432x288 with 1 Axes>"
      ]
     },
     "metadata": {
      "needs_background": "light"
     },
     "output_type": "display_data"
    },
    {
     "name": "stdout",
     "output_type": "stream",
     "text": [
      "Predicted Age: 37\n",
      "Predicted Gender: Female\n",
      "Actual age: 42\n"
     ]
    }
   ],
   "source": [
    "test_image(9969,images,Model)"
   ]
  },
  {
   "cell_type": "code",
   "execution_count": 157,
   "metadata": {},
   "outputs": [
    {
     "data": {
      "text/plain": [
       "<matplotlib.legend.Legend at 0x1c70745ce20>"
      ]
     },
     "execution_count": 157,
     "metadata": {},
     "output_type": "execute_result"
    },
    {
     "data": {
      "image/png": "[encoded data removed]",
      "text/plain": [
       "<Figure size 432x288 with 1 Axes>"
      ]
     },
     "metadata": {
      "needs_background": "light"
     },
     "output_type": "display_data"
    }
   ],
   "source": [
    "plt.plot(Historys.history['age_mae'])\n",
    "plt.plot(Historys.history['val_age_mae'])\n",
    "plt.title('Age accuracy')\n",
    "plt.ylabel('MAE')\n",
    "plt.xlabel('Epoch')\n",
    "plt.legend(['Train', 'Validation'], loc='upper right')"
   ]
  },
  {
   "cell_type": "code",
   "execution_count": 158,
   "metadata": {},
   "outputs": [
    {
     "data": {
      "text/plain": [
       "<matplotlib.legend.Legend at 0x1c680701e80>"
      ]
     },
     "execution_count": 158,
     "metadata": {},
     "output_type": "execute_result"
    },
    {
     "data": {
      "image/png": "[encoded data removed]",
      "text/plain": [
       "<Figure size 432x288 with 1 Axes>"
      ]
     },
     "metadata": {
      "needs_background": "light"
     },
     "output_type": "display_data"
    }
   ],
   "source": [
    "plt.plot(Historys.history['gender_accuracy'])\n",
    "plt.plot(Historys.history['val_gender_accuracy'])\n",
    "plt.title('Gender accuracy')\n",
    "plt.ylabel('Accuracy')\n",
    "plt.xlabel('Epoch')\n",
    "plt.legend(['Train', 'Validation'], loc='upper left')"
   ]
  },
  {
   "cell_type": "code",
   "execution_count": null,
   "metadata": {},
   "outputs": [],
   "source": []
  }
 ],
 "metadata": {
  "anaconda-cloud": {},
  "kernelspec": {
   "display_name": "Python 3",
   "language": "python",
   "name": "python3"
  },
  "language_info": {
   "codemirror_mode": {
    "name": "ipython",
    "version": 3
   },
   "file_extension": ".py",
   "mimetype": "text/x-python",
   "name": "python",
   "nbconvert_exporter": "python",
   "pygments_lexer": "ipython3",
   "version": "3.8.6"
  }
 },
 "nbformat": 4,
 "nbformat_minor": 1
}
